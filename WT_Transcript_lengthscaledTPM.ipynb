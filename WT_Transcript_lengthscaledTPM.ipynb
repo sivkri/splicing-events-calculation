{
 "cells": [
  {
   "cell_type": "code",
   "execution_count": 1,
   "metadata": {},
   "outputs": [
    {
     "data": {
      "text/plain": [
       "2"
      ]
     },
     "execution_count": 1,
     "metadata": {},
     "output_type": "execute_result"
    }
   ],
   "source": [
    "1+1"
   ]
  },
  {
   "cell_type": "code",
   "execution_count": 2,
   "metadata": {},
   "outputs": [],
   "source": [
    "import pandas as pd\n",
    "import numpy as np\n",
    "import os\n",
    "import sys\n",
    "import scipy\n",
    "import csv\n",
    "from pandas import Series, DataFrame, read_excel"
   ]
  },
  {
   "cell_type": "markdown",
   "metadata": {},
   "source": [
    "**import the file in csv format**"
   ]
  },
  {
   "cell_type": "code",
   "execution_count": 3,
   "metadata": {},
   "outputs": [],
   "source": [
    "txi_lengthscaledTPM_WT= pd.read_csv('txi_lengthscaledTPM_WT.csv')"
   ]
  },
  {
   "cell_type": "markdown",
   "metadata": {},
   "source": [
    "**Visualizing the selected column**"
   ]
  },
  {
   "cell_type": "code",
   "execution_count": 4,
   "metadata": {},
   "outputs": [
    {
     "data": {
      "text/html": [
       "<div>\n",
       "<style scoped>\n",
       "    .dataframe tbody tr th:only-of-type {\n",
       "        vertical-align: middle;\n",
       "    }\n",
       "\n",
       "    .dataframe tbody tr th {\n",
       "        vertical-align: top;\n",
       "    }\n",
       "\n",
       "    .dataframe thead th {\n",
       "        text-align: right;\n",
       "    }\n",
       "</style>\n",
       "<table border=\"1\" class=\"dataframe\">\n",
       "  <thead>\n",
       "    <tr style=\"text-align: right;\">\n",
       "      <th></th>\n",
       "      <th>Transcript_ID</th>\n",
       "      <th>abundance.Controlrep1</th>\n",
       "      <th>abundance.Controlrep2</th>\n",
       "      <th>abundance.Controlrep3</th>\n",
       "      <th>abundance.Controlrep4</th>\n",
       "      <th>abundance.Controlrep5</th>\n",
       "      <th>abundance.Controlrep6</th>\n",
       "      <th>counts.Controlrep1</th>\n",
       "      <th>counts.Controlrep2</th>\n",
       "      <th>counts.Controlrep3</th>\n",
       "      <th>counts.Controlrep4</th>\n",
       "      <th>counts.Controlrep5</th>\n",
       "      <th>counts.Controlrep6</th>\n",
       "      <th>length.Controlrep1</th>\n",
       "      <th>length.Controlrep2</th>\n",
       "      <th>length.Controlrep3</th>\n",
       "      <th>length.Controlrep4</th>\n",
       "      <th>length.Controlrep5</th>\n",
       "      <th>length.Controlrep6</th>\n",
       "      <th>countsFromAbundance</th>\n",
       "    </tr>\n",
       "  </thead>\n",
       "  <tbody>\n",
       "    <tr>\n",
       "      <th>0</th>\n",
       "      <td>MSTRG.1</td>\n",
       "      <td>6.483969</td>\n",
       "      <td>4.124629</td>\n",
       "      <td>6.369704</td>\n",
       "      <td>4.792945</td>\n",
       "      <td>3.000356</td>\n",
       "      <td>5.125094</td>\n",
       "      <td>398</td>\n",
       "      <td>267</td>\n",
       "      <td>415</td>\n",
       "      <td>308</td>\n",
       "      <td>208</td>\n",
       "      <td>314</td>\n",
       "      <td>1474.977000</td>\n",
       "      <td>1497.499000</td>\n",
       "      <td>1502.944000</td>\n",
       "      <td>1517.653000</td>\n",
       "      <td>1544.343000</td>\n",
       "      <td>1495.067000</td>\n",
       "      <td>lengthScaledTPM</td>\n",
       "    </tr>\n",
       "    <tr>\n",
       "      <th>1</th>\n",
       "      <td>MSTRG.10</td>\n",
       "      <td>19.337483</td>\n",
       "      <td>13.387297</td>\n",
       "      <td>19.873034</td>\n",
       "      <td>18.905987</td>\n",
       "      <td>16.020265</td>\n",
       "      <td>19.316794</td>\n",
       "      <td>791</td>\n",
       "      <td>578</td>\n",
       "      <td>862</td>\n",
       "      <td>809</td>\n",
       "      <td>739</td>\n",
       "      <td>788</td>\n",
       "      <td>962.709189</td>\n",
       "      <td>987.936012</td>\n",
       "      <td>993.700130</td>\n",
       "      <td>1025.157463</td>\n",
       "      <td>1036.076688</td>\n",
       "      <td>1011.567972</td>\n",
       "      <td>lengthScaledTPM</td>\n",
       "    </tr>\n",
       "    <tr>\n",
       "      <th>2</th>\n",
       "      <td>MSTRG.100</td>\n",
       "      <td>0.511333</td>\n",
       "      <td>1.434536</td>\n",
       "      <td>0.535550</td>\n",
       "      <td>3.344224</td>\n",
       "      <td>4.671785</td>\n",
       "      <td>3.449529</td>\n",
       "      <td>24</td>\n",
       "      <td>72</td>\n",
       "      <td>27</td>\n",
       "      <td>165</td>\n",
       "      <td>249</td>\n",
       "      <td>163</td>\n",
       "      <td>1196.629000</td>\n",
       "      <td>1132.513000</td>\n",
       "      <td>1186.015000</td>\n",
       "      <td>1180.450000</td>\n",
       "      <td>1094.851000</td>\n",
       "      <td>1166.322000</td>\n",
       "      <td>lengthScaledTPM</td>\n",
       "    </tr>\n",
       "    <tr>\n",
       "      <th>3</th>\n",
       "      <td>MSTRG.1000</td>\n",
       "      <td>81.650916</td>\n",
       "      <td>95.963162</td>\n",
       "      <td>89.265808</td>\n",
       "      <td>79.504876</td>\n",
       "      <td>72.994182</td>\n",
       "      <td>84.313197</td>\n",
       "      <td>5547</td>\n",
       "      <td>6879</td>\n",
       "      <td>6429</td>\n",
       "      <td>5649</td>\n",
       "      <td>5588</td>\n",
       "      <td>5709</td>\n",
       "      <td>1679.745597</td>\n",
       "      <td>1687.835429</td>\n",
       "      <td>1643.385762</td>\n",
       "      <td>1663.835732</td>\n",
       "      <td>1650.149856</td>\n",
       "      <td>1664.363362</td>\n",
       "      <td>lengthScaledTPM</td>\n",
       "    </tr>\n",
       "    <tr>\n",
       "      <th>4</th>\n",
       "      <td>MSTRG.10000</td>\n",
       "      <td>6.147123</td>\n",
       "      <td>7.241106</td>\n",
       "      <td>6.751019</td>\n",
       "      <td>17.445138</td>\n",
       "      <td>17.759656</td>\n",
       "      <td>17.193343</td>\n",
       "      <td>338</td>\n",
       "      <td>420</td>\n",
       "      <td>393</td>\n",
       "      <td>1003</td>\n",
       "      <td>1100</td>\n",
       "      <td>942</td>\n",
       "      <td>1373.697761</td>\n",
       "      <td>1302.269929</td>\n",
       "      <td>1387.226311</td>\n",
       "      <td>1362.269468</td>\n",
       "      <td>1311.564639</td>\n",
       "      <td>1344.187140</td>\n",
       "      <td>lengthScaledTPM</td>\n",
       "    </tr>\n",
       "  </tbody>\n",
       "</table>\n",
       "</div>"
      ],
      "text/plain": [
       "  Transcript_ID  abundance.Controlrep1  abundance.Controlrep2  \\\n",
       "0       MSTRG.1               6.483969               4.124629   \n",
       "1      MSTRG.10              19.337483              13.387297   \n",
       "2     MSTRG.100               0.511333               1.434536   \n",
       "3    MSTRG.1000              81.650916              95.963162   \n",
       "4   MSTRG.10000               6.147123               7.241106   \n",
       "\n",
       "   abundance.Controlrep3  abundance.Controlrep4  abundance.Controlrep5  \\\n",
       "0               6.369704               4.792945               3.000356   \n",
       "1              19.873034              18.905987              16.020265   \n",
       "2               0.535550               3.344224               4.671785   \n",
       "3              89.265808              79.504876              72.994182   \n",
       "4               6.751019              17.445138              17.759656   \n",
       "\n",
       "   abundance.Controlrep6  counts.Controlrep1  counts.Controlrep2  \\\n",
       "0               5.125094                 398                 267   \n",
       "1              19.316794                 791                 578   \n",
       "2               3.449529                  24                  72   \n",
       "3              84.313197                5547                6879   \n",
       "4              17.193343                 338                 420   \n",
       "\n",
       "   counts.Controlrep3  counts.Controlrep4  counts.Controlrep5  \\\n",
       "0                 415                 308                 208   \n",
       "1                 862                 809                 739   \n",
       "2                  27                 165                 249   \n",
       "3                6429                5649                5588   \n",
       "4                 393                1003                1100   \n",
       "\n",
       "   counts.Controlrep6  length.Controlrep1  length.Controlrep2  \\\n",
       "0                 314         1474.977000         1497.499000   \n",
       "1                 788          962.709189          987.936012   \n",
       "2                 163         1196.629000         1132.513000   \n",
       "3                5709         1679.745597         1687.835429   \n",
       "4                 942         1373.697761         1302.269929   \n",
       "\n",
       "   length.Controlrep3  length.Controlrep4  length.Controlrep5  \\\n",
       "0         1502.944000         1517.653000         1544.343000   \n",
       "1          993.700130         1025.157463         1036.076688   \n",
       "2         1186.015000         1180.450000         1094.851000   \n",
       "3         1643.385762         1663.835732         1650.149856   \n",
       "4         1387.226311         1362.269468         1311.564639   \n",
       "\n",
       "   length.Controlrep6 countsFromAbundance  \n",
       "0         1495.067000     lengthScaledTPM  \n",
       "1         1011.567972     lengthScaledTPM  \n",
       "2         1166.322000     lengthScaledTPM  \n",
       "3         1664.363362     lengthScaledTPM  \n",
       "4         1344.187140     lengthScaledTPM  "
      ]
     },
     "execution_count": 4,
     "metadata": {},
     "output_type": "execute_result"
    }
   ],
   "source": [
    "txi_lengthscaledTPM_WT.head()"
   ]
  },
  {
   "cell_type": "code",
   "execution_count": 5,
   "metadata": {},
   "outputs": [
    {
     "data": {
      "text/plain": [
       "22899"
      ]
     },
     "execution_count": 5,
     "metadata": {},
     "output_type": "execute_result"
    }
   ],
   "source": [
    "len(txi_lengthscaledTPM_WT)"
   ]
  },
  {
   "cell_type": "markdown",
   "metadata": {},
   "source": [
    "**Read the text file with the tab delimiter**"
   ]
  },
  {
   "cell_type": "code",
   "execution_count": 47,
   "metadata": {},
   "outputs": [],
   "source": [
    "A3SS = pd.read_csv('A3SS.MATS.JCEC.txt', delimiter = '\\t')\n",
    "A5SS = pd.read_csv('A5SS.MATS.JCEC.txt', delimiter = '\\t')\n",
    "MXE = pd.read_csv('MXE.MATS.JCEC.txt', delimiter = '\\t')\n",
    "RI = pd.read_csv('RI.MATS.JCEC.txt', delimiter = '\\t')\n",
    "SE = pd.read_csv('SE.MATS.JCEC.txt', delimiter = '\\t')\n",
    "ENSEMBL_Data = pd.read_csv('ENSEMBL_44_data.txt', delimiter = '\\t')\n",
    "#ID_convert = pd.read_csv('tx2gene-WT.csv', delimiter = ',')"
   ]
  },
  {
   "cell_type": "code",
   "execution_count": 48,
   "metadata": {},
   "outputs": [],
   "source": [
    "A3SS= DataFrame(A3SS)\n",
    "A5SS= DataFrame(A5SS)\n",
    "MXE= DataFrame(MXE)\n",
    "RI= DataFrame(RI)\n",
    "SE= DataFrame(SE)\n",
    "txi_lengthscaledTPM_WT = DataFrame(txi_lengthscaledTPM_WT)\n",
    "ENSEMBL_Data = DataFrame(ENSEMBL_Data)\n",
    "#ID_convert = DataFrame(ID_convert)"
   ]
  },
  {
   "cell_type": "code",
   "execution_count": 49,
   "metadata": {},
   "outputs": [],
   "source": [
    "#ID_convert.head(n=10)"
   ]
  },
  {
   "cell_type": "markdown",
   "metadata": {},
   "source": [
    "# interchanging the columns, since TXNAME is first in the input file"
   ]
  },
  {
   "cell_type": "code",
   "execution_count": 9,
   "metadata": {},
   "outputs": [],
   "source": [
    "#ID_convert1= ID_convert[['GENEID', 'TXNAME']]\n",
    "#ID_convert1[\"TXNAME\"]=ID_convert1[\"TXNAME\"].str.slice(0,-2)"
   ]
  },
  {
   "cell_type": "code",
   "execution_count": 10,
   "metadata": {},
   "outputs": [],
   "source": [
    "#ID_convert2 = ID_convert1.drop(ID_convert1[(ID_convert1[\"GENEID\"]) == (ID_convert1[\"TXNAME\"])].index)\n",
    "#ID_convert2 = ID_convert2.drop(ID_convert2[(ID_convert2[\"TXNAME\"]).map(len) > 9].index)\n",
    "#ID_convert2 = ID_convert2.drop(ID_convert2[(ID_convert2[\"TXNAME\"]).map(len) <9].index)"
   ]
  },
  {
   "cell_type": "code",
   "execution_count": 11,
   "metadata": {},
   "outputs": [],
   "source": [
    "#ID_convert3 = ID_convert2.drop_duplicates([\"GENEID\", \"TXNAME\"], keep = 'first')"
   ]
  },
  {
   "cell_type": "code",
   "execution_count": 12,
   "metadata": {},
   "outputs": [],
   "source": [
    "#ID_convert3.head()"
   ]
  },
  {
   "cell_type": "code",
   "execution_count": 13,
   "metadata": {},
   "outputs": [],
   "source": [
    "#ID_convert3[\"count\"]= ID_convert3[\"TXNAME\"].str.len()\n",
    "#ID_convert3.head()"
   ]
  },
  {
   "cell_type": "code",
   "execution_count": 13,
   "metadata": {},
   "outputs": [],
   "source": [
    "#ID_convert3.to_csv('ID_convert3.csv', header=True, index=False)"
   ]
  },
  {
   "cell_type": "code",
   "execution_count": 50,
   "metadata": {},
   "outputs": [
    {
     "data": {
      "text/html": [
       "<div>\n",
       "<style scoped>\n",
       "    .dataframe tbody tr th:only-of-type {\n",
       "        vertical-align: middle;\n",
       "    }\n",
       "\n",
       "    .dataframe tbody tr th {\n",
       "        vertical-align: top;\n",
       "    }\n",
       "\n",
       "    .dataframe thead th {\n",
       "        text-align: right;\n",
       "    }\n",
       "</style>\n",
       "<table border=\"1\" class=\"dataframe\">\n",
       "  <thead>\n",
       "    <tr style=\"text-align: right;\">\n",
       "      <th></th>\n",
       "      <th>Transcript_ID</th>\n",
       "      <th>abundance.Controlrep1</th>\n",
       "      <th>abundance.Controlrep2</th>\n",
       "      <th>abundance.Controlrep3</th>\n",
       "      <th>abundance.Controlrep4</th>\n",
       "      <th>abundance.Controlrep5</th>\n",
       "      <th>abundance.Controlrep6</th>\n",
       "      <th>counts.Controlrep1</th>\n",
       "      <th>counts.Controlrep2</th>\n",
       "      <th>counts.Controlrep3</th>\n",
       "      <th>counts.Controlrep4</th>\n",
       "      <th>counts.Controlrep5</th>\n",
       "      <th>counts.Controlrep6</th>\n",
       "      <th>length.Controlrep1</th>\n",
       "      <th>length.Controlrep2</th>\n",
       "      <th>length.Controlrep3</th>\n",
       "      <th>length.Controlrep4</th>\n",
       "      <th>length.Controlrep5</th>\n",
       "      <th>length.Controlrep6</th>\n",
       "      <th>countsFromAbundance</th>\n",
       "    </tr>\n",
       "  </thead>\n",
       "  <tbody>\n",
       "    <tr>\n",
       "      <th>0</th>\n",
       "      <td>MSTRG.1</td>\n",
       "      <td>6.483969</td>\n",
       "      <td>4.124629</td>\n",
       "      <td>6.369704</td>\n",
       "      <td>4.792945</td>\n",
       "      <td>3.000356</td>\n",
       "      <td>5.125094</td>\n",
       "      <td>398</td>\n",
       "      <td>267</td>\n",
       "      <td>415</td>\n",
       "      <td>308</td>\n",
       "      <td>208</td>\n",
       "      <td>314</td>\n",
       "      <td>1474.977000</td>\n",
       "      <td>1497.499000</td>\n",
       "      <td>1502.944000</td>\n",
       "      <td>1517.653000</td>\n",
       "      <td>1544.343000</td>\n",
       "      <td>1495.067000</td>\n",
       "      <td>lengthScaledTPM</td>\n",
       "    </tr>\n",
       "    <tr>\n",
       "      <th>1</th>\n",
       "      <td>MSTRG.10</td>\n",
       "      <td>19.337483</td>\n",
       "      <td>13.387297</td>\n",
       "      <td>19.873034</td>\n",
       "      <td>18.905987</td>\n",
       "      <td>16.020265</td>\n",
       "      <td>19.316794</td>\n",
       "      <td>791</td>\n",
       "      <td>578</td>\n",
       "      <td>862</td>\n",
       "      <td>809</td>\n",
       "      <td>739</td>\n",
       "      <td>788</td>\n",
       "      <td>962.709189</td>\n",
       "      <td>987.936012</td>\n",
       "      <td>993.700130</td>\n",
       "      <td>1025.157463</td>\n",
       "      <td>1036.076688</td>\n",
       "      <td>1011.567972</td>\n",
       "      <td>lengthScaledTPM</td>\n",
       "    </tr>\n",
       "    <tr>\n",
       "      <th>2</th>\n",
       "      <td>MSTRG.100</td>\n",
       "      <td>0.511333</td>\n",
       "      <td>1.434536</td>\n",
       "      <td>0.535550</td>\n",
       "      <td>3.344224</td>\n",
       "      <td>4.671785</td>\n",
       "      <td>3.449529</td>\n",
       "      <td>24</td>\n",
       "      <td>72</td>\n",
       "      <td>27</td>\n",
       "      <td>165</td>\n",
       "      <td>249</td>\n",
       "      <td>163</td>\n",
       "      <td>1196.629000</td>\n",
       "      <td>1132.513000</td>\n",
       "      <td>1186.015000</td>\n",
       "      <td>1180.450000</td>\n",
       "      <td>1094.851000</td>\n",
       "      <td>1166.322000</td>\n",
       "      <td>lengthScaledTPM</td>\n",
       "    </tr>\n",
       "    <tr>\n",
       "      <th>3</th>\n",
       "      <td>MSTRG.1000</td>\n",
       "      <td>81.650916</td>\n",
       "      <td>95.963162</td>\n",
       "      <td>89.265808</td>\n",
       "      <td>79.504876</td>\n",
       "      <td>72.994182</td>\n",
       "      <td>84.313197</td>\n",
       "      <td>5547</td>\n",
       "      <td>6879</td>\n",
       "      <td>6429</td>\n",
       "      <td>5649</td>\n",
       "      <td>5588</td>\n",
       "      <td>5709</td>\n",
       "      <td>1679.745597</td>\n",
       "      <td>1687.835429</td>\n",
       "      <td>1643.385762</td>\n",
       "      <td>1663.835732</td>\n",
       "      <td>1650.149856</td>\n",
       "      <td>1664.363362</td>\n",
       "      <td>lengthScaledTPM</td>\n",
       "    </tr>\n",
       "    <tr>\n",
       "      <th>4</th>\n",
       "      <td>MSTRG.10000</td>\n",
       "      <td>6.147123</td>\n",
       "      <td>7.241106</td>\n",
       "      <td>6.751019</td>\n",
       "      <td>17.445138</td>\n",
       "      <td>17.759656</td>\n",
       "      <td>17.193343</td>\n",
       "      <td>338</td>\n",
       "      <td>420</td>\n",
       "      <td>393</td>\n",
       "      <td>1003</td>\n",
       "      <td>1100</td>\n",
       "      <td>942</td>\n",
       "      <td>1373.697761</td>\n",
       "      <td>1302.269929</td>\n",
       "      <td>1387.226311</td>\n",
       "      <td>1362.269468</td>\n",
       "      <td>1311.564639</td>\n",
       "      <td>1344.187140</td>\n",
       "      <td>lengthScaledTPM</td>\n",
       "    </tr>\n",
       "  </tbody>\n",
       "</table>\n",
       "</div>"
      ],
      "text/plain": [
       "  Transcript_ID  abundance.Controlrep1  abundance.Controlrep2  \\\n",
       "0       MSTRG.1               6.483969               4.124629   \n",
       "1      MSTRG.10              19.337483              13.387297   \n",
       "2     MSTRG.100               0.511333               1.434536   \n",
       "3    MSTRG.1000              81.650916              95.963162   \n",
       "4   MSTRG.10000               6.147123               7.241106   \n",
       "\n",
       "   abundance.Controlrep3  abundance.Controlrep4  abundance.Controlrep5  \\\n",
       "0               6.369704               4.792945               3.000356   \n",
       "1              19.873034              18.905987              16.020265   \n",
       "2               0.535550               3.344224               4.671785   \n",
       "3              89.265808              79.504876              72.994182   \n",
       "4               6.751019              17.445138              17.759656   \n",
       "\n",
       "   abundance.Controlrep6  counts.Controlrep1  counts.Controlrep2  \\\n",
       "0               5.125094                 398                 267   \n",
       "1              19.316794                 791                 578   \n",
       "2               3.449529                  24                  72   \n",
       "3              84.313197                5547                6879   \n",
       "4              17.193343                 338                 420   \n",
       "\n",
       "   counts.Controlrep3  counts.Controlrep4  counts.Controlrep5  \\\n",
       "0                 415                 308                 208   \n",
       "1                 862                 809                 739   \n",
       "2                  27                 165                 249   \n",
       "3                6429                5649                5588   \n",
       "4                 393                1003                1100   \n",
       "\n",
       "   counts.Controlrep6  length.Controlrep1  length.Controlrep2  \\\n",
       "0                 314         1474.977000         1497.499000   \n",
       "1                 788          962.709189          987.936012   \n",
       "2                 163         1196.629000         1132.513000   \n",
       "3                5709         1679.745597         1687.835429   \n",
       "4                 942         1373.697761         1302.269929   \n",
       "\n",
       "   length.Controlrep3  length.Controlrep4  length.Controlrep5  \\\n",
       "0         1502.944000         1517.653000         1544.343000   \n",
       "1          993.700130         1025.157463         1036.076688   \n",
       "2         1186.015000         1180.450000         1094.851000   \n",
       "3         1643.385762         1663.835732         1650.149856   \n",
       "4         1387.226311         1362.269468         1311.564639   \n",
       "\n",
       "   length.Controlrep6 countsFromAbundance  \n",
       "0         1495.067000     lengthScaledTPM  \n",
       "1         1011.567972     lengthScaledTPM  \n",
       "2         1166.322000     lengthScaledTPM  \n",
       "3         1664.363362     lengthScaledTPM  \n",
       "4         1344.187140     lengthScaledTPM  "
      ]
     },
     "execution_count": 50,
     "metadata": {},
     "output_type": "execute_result"
    }
   ],
   "source": [
    "#A3SS.tail(n=5)\n",
    "#len(A3SS)\n",
    "#len(A5SS)\n",
    "#len(MXE)\n",
    "#len(RI)\n",
    "#len(SE)\n",
    "txi_lengthscaledTPM_WT.head()"
   ]
  },
  {
   "cell_type": "markdown",
   "metadata": {},
   "source": [
    "**Removing the duplicates based on a single column, but it will drop the corresponding other columns too**"
   ]
  },
  {
   "cell_type": "markdown",
   "metadata": {},
   "source": [
    "**A3SS_remove_duplicates = A3SS.drop_duplicates(['GeneID'])**"
   ]
  },
  {
   "cell_type": "code",
   "execution_count": 15,
   "metadata": {},
   "outputs": [],
   "source": [
    "A3SS_lengthscaledTPM = A3SS.merge(txi_lengthscaledTPM_WT, left_on = 'GeneID', right_on = 'Transcript_ID', how = 'left')\n",
    "A5SS_lengthscaledTPM = A5SS.merge(txi_lengthscaledTPM_WT, left_on = 'GeneID', right_on = 'Transcript_ID', how = 'left')\n",
    "MXE_lengthscaledTPM = MXE.merge(txi_lengthscaledTPM_WT, left_on = 'GeneID', right_on = 'Transcript_ID', how = 'left')\n",
    "RI_lengthscaledTPM = RI.merge(txi_lengthscaledTPM_WT, left_on = 'GeneID', right_on = 'Transcript_ID', how = 'left')\n",
    "SE_lengthscaledTPM = SE.merge(txi_lengthscaledTPM_WT, left_on = 'GeneID', right_on = 'Transcript_ID', how = 'left')"
   ]
  },
  {
   "cell_type": "code",
   "execution_count": 16,
   "metadata": {},
   "outputs": [],
   "source": [
    "#A3SS_lengthscaledTPM.to_csv('A3SS_lengthscaledTPM.csv', header=True, index=False)\n",
    "#A5SS_lengthscaledTPM.to_csv('A5SS_lengthscaledTPM.csv', header=True, index=False)\n",
    "#MXE_lengthscaledTPM.to_csv('MXE_lengthscaledTPM.csv', header=True, index=False)\n",
    "#RI_lengthscaledTPM.to_csv('RI_lengthscaledTPM.csv', header=True, index=False)\n",
    "#SE_lengthscaledTPM.to_csv('SE_lengthscaledTPM.csv', header=True, index=False)"
   ]
  },
  {
   "cell_type": "markdown",
   "metadata": {},
   "source": [
    "**Read columns in the dataframe**"
   ]
  },
  {
   "cell_type": "code",
   "execution_count": 17,
   "metadata": {},
   "outputs": [
    {
     "data": {
      "text/plain": [
       "Index(['ID', 'GeneID', 'geneSymbol', 'chr', 'strand', 'longExonStart_0base',\n",
       "       'longExonEnd', 'shortES', 'shortEE', 'flankingES', 'flankingEE', 'ID.1',\n",
       "       'IJC_SAMPLE_1', 'SJC_SAMPLE_1', 'IJC_SAMPLE_2', 'SJC_SAMPLE_2',\n",
       "       'IncFormLen', 'SkipFormLen', 'PValue', 'FDR', 'IncLevel1', 'IncLevel2',\n",
       "       'IncLevelDifference', 'Transcript_ID', 'abundance.Controlrep1',\n",
       "       'abundance.Controlrep2', 'abundance.Controlrep3',\n",
       "       'abundance.Controlrep4', 'abundance.Controlrep5',\n",
       "       'abundance.Controlrep6', 'counts.Controlrep1', 'counts.Controlrep2',\n",
       "       'counts.Controlrep3', 'counts.Controlrep4', 'counts.Controlrep5',\n",
       "       'counts.Controlrep6', 'length.Controlrep1', 'length.Controlrep2',\n",
       "       'length.Controlrep3', 'length.Controlrep4', 'length.Controlrep5',\n",
       "       'length.Controlrep6', 'countsFromAbundance'],\n",
       "      dtype='object')"
      ]
     },
     "execution_count": 17,
     "metadata": {},
     "output_type": "execute_result"
    }
   ],
   "source": [
    "#A3SS.columns\n",
    "A3SS_lengthscaledTPM.columns"
   ]
  },
  {
   "cell_type": "markdown",
   "metadata": {},
   "source": [
    "**Read selected columns by putting as a list**"
   ]
  },
  {
   "cell_type": "code",
   "execution_count": 18,
   "metadata": {},
   "outputs": [],
   "source": [
    "#print(A3SS_lengthscaledTPM[['GeneID', 'chr', 'strand']])"
   ]
  },
  {
   "cell_type": "markdown",
   "metadata": {},
   "source": [
    "**Read selected row**"
   ]
  },
  {
   "cell_type": "code",
   "execution_count": 19,
   "metadata": {},
   "outputs": [],
   "source": [
    "#print(A3SS_lengthscaledTPM.iloc[1:4])"
   ]
  },
  {
   "cell_type": "markdown",
   "metadata": {},
   "source": [
    "**Sorting the values based on the ascending[1] or descending[0] order for two columns**"
   ]
  },
  {
   "cell_type": "code",
   "execution_count": 20,
   "metadata": {},
   "outputs": [],
   "source": [
    "A3SS_sorted = A3SS_lengthscaledTPM.sort_values(['GeneID', 'PValue'], ascending=[0,1])"
   ]
  },
  {
   "cell_type": "markdown",
   "metadata": {},
   "source": [
    "**Drop of the respective columns from the desired dataframe**"
   ]
  },
  {
   "cell_type": "markdown",
   "metadata": {},
   "source": [
    "#droped = A3SS_sorted.drop(columns=['countsFromAbundance'])"
   ]
  },
  {
   "cell_type": "markdown",
   "metadata": {},
   "source": [
    "**Filtering based on the FDR value**"
   ]
  },
  {
   "cell_type": "markdown",
   "metadata": {},
   "source": [
    "#A3SS_significant = A3SS_lengthscaledTPM.loc[(A3SS_lengthscaledTPM['FDR'] < 0.05)]\n",
    "#A5SS_significant = A5SS_lengthscaledTPM.loc[(A5SS_lengthscaledTPM['FDR'] < 0.05)]\n",
    "#MXE_significant = MXE_lengthscaledTPM.loc[(MXE_lengthscaledTPM['FDR'] < 0.05)]\n",
    "#RI_significant = RI_lengthscaledTPM.loc[(RI_lengthscaledTPM['FDR'] < 0.05)]\n",
    "#SE_significant = SE_lengthscaledTPM.loc[(SE_lengthscaledTPM['FDR'] < 0.05)]"
   ]
  },
  {
   "cell_type": "markdown",
   "metadata": {},
   "source": [
    "#A3SS_significant"
   ]
  },
  {
   "cell_type": "markdown",
   "metadata": {},
   "source": [
    "**Shortlist the counts based on FDR<0.05 and TPM>1 in all the samples**"
   ]
  },
  {
   "cell_type": "code",
   "execution_count": 21,
   "metadata": {},
   "outputs": [],
   "source": [
    "A3SS_shortlisted = A3SS_lengthscaledTPM.loc[(A3SS_lengthscaledTPM['FDR'] < 0.05) & (A3SS_lengthscaledTPM['abundance.Controlrep1'] > 1.0) & (A3SS_lengthscaledTPM['abundance.Controlrep2'] > 1.0) & (A3SS_lengthscaledTPM['abundance.Controlrep3'] > 1.0) & (A3SS_lengthscaledTPM['abundance.Controlrep4'] > 1.0) & (A3SS_lengthscaledTPM['abundance.Controlrep5'] > 1.0) & (A3SS_lengthscaledTPM['abundance.Controlrep6'] > 1.0)]\n",
    "A5SS_shortlisted = A5SS_lengthscaledTPM.loc[(A5SS_lengthscaledTPM['FDR'] < 0.05) & (A5SS_lengthscaledTPM['abundance.Controlrep1'] > 1.0) & (A5SS_lengthscaledTPM['abundance.Controlrep2'] > 1.0) & (A5SS_lengthscaledTPM['abundance.Controlrep3'] > 1.0) & (A5SS_lengthscaledTPM['abundance.Controlrep4'] > 1.0) & (A5SS_lengthscaledTPM['abundance.Controlrep5'] > 1.0) & (A5SS_lengthscaledTPM['abundance.Controlrep6'] > 1.0)]\n",
    "MXE_shortlisted = MXE_lengthscaledTPM.loc[(MXE_lengthscaledTPM['FDR'] < 0.05) & (MXE_lengthscaledTPM['abundance.Controlrep1'] > 1.0) & (MXE_lengthscaledTPM['abundance.Controlrep2'] > 1.0) & (MXE_lengthscaledTPM['abundance.Controlrep3'] > 1.0) & (MXE_lengthscaledTPM['abundance.Controlrep4'] > 1.0) & (MXE_lengthscaledTPM['abundance.Controlrep5'] > 1.0) & (MXE_lengthscaledTPM['abundance.Controlrep6'] > 1.0)]\n",
    "RI_shortlisted = RI_lengthscaledTPM.loc[(RI_lengthscaledTPM['FDR'] < 0.05) & (RI_lengthscaledTPM['abundance.Controlrep1'] > 1.0) & (RI_lengthscaledTPM['abundance.Controlrep2'] > 1.0) & (RI_lengthscaledTPM['abundance.Controlrep3'] > 1.0) & (RI_lengthscaledTPM['abundance.Controlrep4'] > 1.0) & (RI_lengthscaledTPM['abundance.Controlrep5'] > 1.0) & (RI_lengthscaledTPM['abundance.Controlrep6'] > 1.0)]\n",
    "SE_shortlisted = SE_lengthscaledTPM.loc[(SE_lengthscaledTPM['FDR'] < 0.05) & (SE_lengthscaledTPM['abundance.Controlrep1'] > 1.0) & (SE_lengthscaledTPM['abundance.Controlrep2'] > 1.0) & (SE_lengthscaledTPM['abundance.Controlrep3'] > 1.0) & (SE_lengthscaledTPM['abundance.Controlrep4'] > 1.0) & (SE_lengthscaledTPM['abundance.Controlrep5'] > 1.0) & (SE_lengthscaledTPM['abundance.Controlrep6'] > 1.0)]"
   ]
  },
  {
   "cell_type": "code",
   "execution_count": 22,
   "metadata": {},
   "outputs": [
    {
     "data": {
      "text/html": [
       "<div>\n",
       "<style scoped>\n",
       "    .dataframe tbody tr th:only-of-type {\n",
       "        vertical-align: middle;\n",
       "    }\n",
       "\n",
       "    .dataframe tbody tr th {\n",
       "        vertical-align: top;\n",
       "    }\n",
       "\n",
       "    .dataframe thead th {\n",
       "        text-align: right;\n",
       "    }\n",
       "</style>\n",
       "<table border=\"1\" class=\"dataframe\">\n",
       "  <thead>\n",
       "    <tr style=\"text-align: right;\">\n",
       "      <th></th>\n",
       "      <th>ID</th>\n",
       "      <th>GeneID</th>\n",
       "      <th>geneSymbol</th>\n",
       "      <th>chr</th>\n",
       "      <th>strand</th>\n",
       "      <th>exonStart_0base</th>\n",
       "      <th>exonEnd</th>\n",
       "      <th>upstreamES</th>\n",
       "      <th>upstreamEE</th>\n",
       "      <th>downstreamES</th>\n",
       "      <th>...</th>\n",
       "      <th>counts.Controlrep4</th>\n",
       "      <th>counts.Controlrep5</th>\n",
       "      <th>counts.Controlrep6</th>\n",
       "      <th>length.Controlrep1</th>\n",
       "      <th>length.Controlrep2</th>\n",
       "      <th>length.Controlrep3</th>\n",
       "      <th>length.Controlrep4</th>\n",
       "      <th>length.Controlrep5</th>\n",
       "      <th>length.Controlrep6</th>\n",
       "      <th>countsFromAbundance</th>\n",
       "    </tr>\n",
       "  </thead>\n",
       "  <tbody>\n",
       "    <tr>\n",
       "      <th>4</th>\n",
       "      <td>3367</td>\n",
       "      <td>MSTRG.709</td>\n",
       "      <td>A1</td>\n",
       "      <td>chr1</td>\n",
       "      <td>-</td>\n",
       "      <td>2464912</td>\n",
       "      <td>2465076</td>\n",
       "      <td>2464330</td>\n",
       "      <td>2464814</td>\n",
       "      <td>2465409</td>\n",
       "      <td>...</td>\n",
       "      <td>16936</td>\n",
       "      <td>15258</td>\n",
       "      <td>15053</td>\n",
       "      <td>2192.520496</td>\n",
       "      <td>2140.497784</td>\n",
       "      <td>2206.867284</td>\n",
       "      <td>2221.834259</td>\n",
       "      <td>2235.255127</td>\n",
       "      <td>2191.434489</td>\n",
       "      <td>lengthScaledTPM</td>\n",
       "    </tr>\n",
       "    <tr>\n",
       "      <th>10</th>\n",
       "      <td>4257</td>\n",
       "      <td>MSTRG.330</td>\n",
       "      <td>ABCC5</td>\n",
       "      <td>chr1</td>\n",
       "      <td>-</td>\n",
       "      <td>1067626</td>\n",
       "      <td>1067676</td>\n",
       "      <td>1066851</td>\n",
       "      <td>1067550</td>\n",
       "      <td>1067762</td>\n",
       "      <td>...</td>\n",
       "      <td>8034</td>\n",
       "      <td>5313</td>\n",
       "      <td>8112</td>\n",
       "      <td>4529.647813</td>\n",
       "      <td>4537.341178</td>\n",
       "      <td>4604.085766</td>\n",
       "      <td>4602.490394</td>\n",
       "      <td>4602.663164</td>\n",
       "      <td>4595.289668</td>\n",
       "      <td>lengthScaledTPM</td>\n",
       "    </tr>\n",
       "  </tbody>\n",
       "</table>\n",
       "<p>2 rows × 43 columns</p>\n",
       "</div>"
      ],
      "text/plain": [
       "      ID     GeneID geneSymbol   chr strand  exonStart_0base  exonEnd  \\\n",
       "4   3367  MSTRG.709         A1  chr1      -          2464912  2465076   \n",
       "10  4257  MSTRG.330      ABCC5  chr1      -          1067626  1067676   \n",
       "\n",
       "    upstreamES  upstreamEE  downstreamES  ...  counts.Controlrep4  \\\n",
       "4      2464330     2464814       2465409  ...               16936   \n",
       "10     1066851     1067550       1067762  ...                8034   \n",
       "\n",
       "    counts.Controlrep5 counts.Controlrep6 length.Controlrep1  \\\n",
       "4                15258              15053        2192.520496   \n",
       "10                5313               8112        4529.647813   \n",
       "\n",
       "   length.Controlrep2 length.Controlrep3  length.Controlrep4  \\\n",
       "4         2140.497784        2206.867284         2221.834259   \n",
       "10        4537.341178        4604.085766         4602.490394   \n",
       "\n",
       "    length.Controlrep5  length.Controlrep6  countsFromAbundance  \n",
       "4          2235.255127         2191.434489      lengthScaledTPM  \n",
       "10         4602.663164         4595.289668      lengthScaledTPM  \n",
       "\n",
       "[2 rows x 43 columns]"
      ]
     },
     "execution_count": 22,
     "metadata": {},
     "output_type": "execute_result"
    }
   ],
   "source": [
    "SE_shortlisted.head(n=2)"
   ]
  },
  {
   "cell_type": "code",
   "execution_count": 31,
   "metadata": {},
   "outputs": [
    {
     "data": {
      "text/plain": [
       "Index(['ID', 'GeneID', 'geneSymbol', 'chr', 'strand', 'exonStart_0base',\n",
       "       'exonEnd', 'upstreamES', 'upstreamEE', 'downstreamES', 'downstreamEE',\n",
       "       'ID.1', 'IJC_SAMPLE_1', 'SJC_SAMPLE_1', 'IJC_SAMPLE_2', 'SJC_SAMPLE_2',\n",
       "       'IncFormLen', 'SkipFormLen', 'PValue', 'FDR', 'IncLevel1', 'IncLevel2',\n",
       "       'IncLevelDifference', 'Transcript_ID', 'abundance.Controlrep1',\n",
       "       'abundance.Controlrep2', 'abundance.Controlrep3',\n",
       "       'abundance.Controlrep4', 'abundance.Controlrep5',\n",
       "       'abundance.Controlrep6', 'counts.Controlrep1', 'counts.Controlrep2',\n",
       "       'counts.Controlrep3', 'counts.Controlrep4', 'counts.Controlrep5',\n",
       "       'counts.Controlrep6', 'length.Controlrep1', 'length.Controlrep2',\n",
       "       'length.Controlrep3', 'length.Controlrep4', 'length.Controlrep5',\n",
       "       'length.Controlrep6', 'countsFromAbundance'],\n",
       "      dtype='object')"
      ]
     },
     "execution_count": 31,
     "metadata": {},
     "output_type": "execute_result"
    }
   ],
   "source": [
    "SE_shortlisted.columns"
   ]
  },
  {
   "cell_type": "code",
   "execution_count": 60,
   "metadata": {},
   "outputs": [],
   "source": [
    "Ensembl_exons= pd.read_csv('df_genes3.csv')"
   ]
  },
  {
   "cell_type": "code",
   "execution_count": 61,
   "metadata": {},
   "outputs": [
    {
     "data": {
      "text/html": [
       "<div>\n",
       "<style scoped>\n",
       "    .dataframe tbody tr th:only-of-type {\n",
       "        vertical-align: middle;\n",
       "    }\n",
       "\n",
       "    .dataframe tbody tr th {\n",
       "        vertical-align: top;\n",
       "    }\n",
       "\n",
       "    .dataframe thead th {\n",
       "        text-align: right;\n",
       "    }\n",
       "</style>\n",
       "<table border=\"1\" class=\"dataframe\">\n",
       "  <thead>\n",
       "    <tr style=\"text-align: right;\">\n",
       "      <th></th>\n",
       "      <th>exonStart_0base</th>\n",
       "      <th>end</th>\n",
       "      <th>gene_ID</th>\n",
       "    </tr>\n",
       "  </thead>\n",
       "  <tbody>\n",
       "    <tr>\n",
       "      <th>0</th>\n",
       "      <td>3630</td>\n",
       "      <td>3913</td>\n",
       "      <td>AT1G01010</td>\n",
       "    </tr>\n",
       "    <tr>\n",
       "      <th>1</th>\n",
       "      <td>3995</td>\n",
       "      <td>4276</td>\n",
       "      <td>AT1G01010</td>\n",
       "    </tr>\n",
       "  </tbody>\n",
       "</table>\n",
       "</div>"
      ],
      "text/plain": [
       "   exonStart_0base   end    gene_ID\n",
       "0             3630  3913  AT1G01010\n",
       "1             3995  4276  AT1G01010"
      ]
     },
     "execution_count": 61,
     "metadata": {},
     "output_type": "execute_result"
    }
   ],
   "source": [
    "Ensembl_exons.head(n=2)"
   ]
  },
  {
   "cell_type": "code",
   "execution_count": 62,
   "metadata": {},
   "outputs": [
    {
     "data": {
      "text/plain": [
       "Index(['exonStart_0base', 'end', 'gene_ID'], dtype='object')"
      ]
     },
     "execution_count": 62,
     "metadata": {},
     "output_type": "execute_result"
    }
   ],
   "source": [
    "Ensembl_exons.columns"
   ]
  },
  {
   "cell_type": "code",
   "execution_count": 63,
   "metadata": {},
   "outputs": [],
   "source": [
    "SE_annotated_new = SE_shortlisted.merge(Ensembl_exons, left_on = ['exonStart_0base', 'exonEnd'], right_on = ['exonStart_0base', 'end'], how = 'left')"
   ]
  },
  {
   "cell_type": "code",
   "execution_count": 64,
   "metadata": {
    "scrolled": true
   },
   "outputs": [
    {
     "data": {
      "text/html": [
       "<div>\n",
       "<style scoped>\n",
       "    .dataframe tbody tr th:only-of-type {\n",
       "        vertical-align: middle;\n",
       "    }\n",
       "\n",
       "    .dataframe tbody tr th {\n",
       "        vertical-align: top;\n",
       "    }\n",
       "\n",
       "    .dataframe thead th {\n",
       "        text-align: right;\n",
       "    }\n",
       "</style>\n",
       "<table border=\"1\" class=\"dataframe\">\n",
       "  <thead>\n",
       "    <tr style=\"text-align: right;\">\n",
       "      <th></th>\n",
       "      <th>ID</th>\n",
       "      <th>GeneID</th>\n",
       "      <th>geneSymbol</th>\n",
       "      <th>chr</th>\n",
       "      <th>strand</th>\n",
       "      <th>exonStart_0base</th>\n",
       "      <th>exonEnd</th>\n",
       "      <th>upstreamES</th>\n",
       "      <th>upstreamEE</th>\n",
       "      <th>downstreamES</th>\n",
       "      <th>...</th>\n",
       "      <th>counts.Controlrep6</th>\n",
       "      <th>length.Controlrep1</th>\n",
       "      <th>length.Controlrep2</th>\n",
       "      <th>length.Controlrep3</th>\n",
       "      <th>length.Controlrep4</th>\n",
       "      <th>length.Controlrep5</th>\n",
       "      <th>length.Controlrep6</th>\n",
       "      <th>countsFromAbundance</th>\n",
       "      <th>end</th>\n",
       "      <th>gene_ID</th>\n",
       "    </tr>\n",
       "  </thead>\n",
       "  <tbody>\n",
       "    <tr>\n",
       "      <th>0</th>\n",
       "      <td>3367</td>\n",
       "      <td>MSTRG.709</td>\n",
       "      <td>A1</td>\n",
       "      <td>chr1</td>\n",
       "      <td>-</td>\n",
       "      <td>2464912</td>\n",
       "      <td>2465076</td>\n",
       "      <td>2464330</td>\n",
       "      <td>2464814</td>\n",
       "      <td>2465409</td>\n",
       "      <td>...</td>\n",
       "      <td>15053</td>\n",
       "      <td>2192.520496</td>\n",
       "      <td>2140.497784</td>\n",
       "      <td>2206.867284</td>\n",
       "      <td>2221.834259</td>\n",
       "      <td>2235.255127</td>\n",
       "      <td>2191.434489</td>\n",
       "      <td>lengthScaledTPM</td>\n",
       "      <td>2465076.0</td>\n",
       "      <td>AT1G07940</td>\n",
       "    </tr>\n",
       "    <tr>\n",
       "      <th>1</th>\n",
       "      <td>4257</td>\n",
       "      <td>MSTRG.330</td>\n",
       "      <td>ABCC5</td>\n",
       "      <td>chr1</td>\n",
       "      <td>-</td>\n",
       "      <td>1067626</td>\n",
       "      <td>1067676</td>\n",
       "      <td>1066851</td>\n",
       "      <td>1067550</td>\n",
       "      <td>1067762</td>\n",
       "      <td>...</td>\n",
       "      <td>8112</td>\n",
       "      <td>4529.647813</td>\n",
       "      <td>4537.341178</td>\n",
       "      <td>4604.085766</td>\n",
       "      <td>4602.490394</td>\n",
       "      <td>4602.663164</td>\n",
       "      <td>4595.289668</td>\n",
       "      <td>lengthScaledTPM</td>\n",
       "      <td>NaN</td>\n",
       "      <td>NaN</td>\n",
       "    </tr>\n",
       "    <tr>\n",
       "      <th>2</th>\n",
       "      <td>2197</td>\n",
       "      <td>MSTRG.702</td>\n",
       "      <td>APX1</td>\n",
       "      <td>chr1</td>\n",
       "      <td>+</td>\n",
       "      <td>2437677</td>\n",
       "      <td>2437833</td>\n",
       "      <td>2437477</td>\n",
       "      <td>2437555</td>\n",
       "      <td>2437992</td>\n",
       "      <td>...</td>\n",
       "      <td>37845</td>\n",
       "      <td>1331.740198</td>\n",
       "      <td>1247.283059</td>\n",
       "      <td>1360.203765</td>\n",
       "      <td>1352.961255</td>\n",
       "      <td>1320.457423</td>\n",
       "      <td>1322.991319</td>\n",
       "      <td>lengthScaledTPM</td>\n",
       "      <td>2437833.0</td>\n",
       "      <td>AT1G07890</td>\n",
       "    </tr>\n",
       "    <tr>\n",
       "      <th>3</th>\n",
       "      <td>2198</td>\n",
       "      <td>MSTRG.702</td>\n",
       "      <td>APX1</td>\n",
       "      <td>chr1</td>\n",
       "      <td>+</td>\n",
       "      <td>2437680</td>\n",
       "      <td>2437833</td>\n",
       "      <td>2437436</td>\n",
       "      <td>2437555</td>\n",
       "      <td>2437992</td>\n",
       "      <td>...</td>\n",
       "      <td>37845</td>\n",
       "      <td>1331.740198</td>\n",
       "      <td>1247.283059</td>\n",
       "      <td>1360.203765</td>\n",
       "      <td>1352.961255</td>\n",
       "      <td>1320.457423</td>\n",
       "      <td>1322.991319</td>\n",
       "      <td>lengthScaledTPM</td>\n",
       "      <td>2437833.0</td>\n",
       "      <td>AT1G07890</td>\n",
       "    </tr>\n",
       "    <tr>\n",
       "      <th>4</th>\n",
       "      <td>4334</td>\n",
       "      <td>MSTRG.4006</td>\n",
       "      <td>ATDI19</td>\n",
       "      <td>chr1</td>\n",
       "      <td>-</td>\n",
       "      <td>21073908</td>\n",
       "      <td>21073974</td>\n",
       "      <td>21073560</td>\n",
       "      <td>21073793</td>\n",
       "      <td>21074056</td>\n",
       "      <td>...</td>\n",
       "      <td>38384</td>\n",
       "      <td>802.852572</td>\n",
       "      <td>803.163744</td>\n",
       "      <td>814.348691</td>\n",
       "      <td>815.806750</td>\n",
       "      <td>822.365067</td>\n",
       "      <td>819.523287</td>\n",
       "      <td>lengthScaledTPM</td>\n",
       "      <td>21073974.0</td>\n",
       "      <td>AT1G56280</td>\n",
       "    </tr>\n",
       "  </tbody>\n",
       "</table>\n",
       "<p>5 rows × 45 columns</p>\n",
       "</div>"
      ],
      "text/plain": [
       "     ID      GeneID geneSymbol   chr strand  exonStart_0base   exonEnd  \\\n",
       "0  3367   MSTRG.709         A1  chr1      -          2464912   2465076   \n",
       "1  4257   MSTRG.330      ABCC5  chr1      -          1067626   1067676   \n",
       "2  2197   MSTRG.702       APX1  chr1      +          2437677   2437833   \n",
       "3  2198   MSTRG.702       APX1  chr1      +          2437680   2437833   \n",
       "4  4334  MSTRG.4006     ATDI19  chr1      -         21073908  21073974   \n",
       "\n",
       "   upstreamES  upstreamEE  downstreamES  ...  counts.Controlrep6  \\\n",
       "0     2464330     2464814       2465409  ...               15053   \n",
       "1     1066851     1067550       1067762  ...                8112   \n",
       "2     2437477     2437555       2437992  ...               37845   \n",
       "3     2437436     2437555       2437992  ...               37845   \n",
       "4    21073560    21073793      21074056  ...               38384   \n",
       "\n",
       "   length.Controlrep1 length.Controlrep2 length.Controlrep3  \\\n",
       "0         2192.520496        2140.497784        2206.867284   \n",
       "1         4529.647813        4537.341178        4604.085766   \n",
       "2         1331.740198        1247.283059        1360.203765   \n",
       "3         1331.740198        1247.283059        1360.203765   \n",
       "4          802.852572         803.163744         814.348691   \n",
       "\n",
       "  length.Controlrep4 length.Controlrep5  length.Controlrep6  \\\n",
       "0        2221.834259        2235.255127         2191.434489   \n",
       "1        4602.490394        4602.663164         4595.289668   \n",
       "2        1352.961255        1320.457423         1322.991319   \n",
       "3        1352.961255        1320.457423         1322.991319   \n",
       "4         815.806750         822.365067          819.523287   \n",
       "\n",
       "   countsFromAbundance         end    gene_ID  \n",
       "0      lengthScaledTPM   2465076.0  AT1G07940  \n",
       "1      lengthScaledTPM         NaN        NaN  \n",
       "2      lengthScaledTPM   2437833.0  AT1G07890  \n",
       "3      lengthScaledTPM   2437833.0  AT1G07890  \n",
       "4      lengthScaledTPM  21073974.0  AT1G56280  \n",
       "\n",
       "[5 rows x 45 columns]"
      ]
     },
     "execution_count": 64,
     "metadata": {},
     "output_type": "execute_result"
    }
   ],
   "source": [
    "SE_annotated_new.head()"
   ]
  },
  {
   "cell_type": "code",
   "execution_count": 65,
   "metadata": {},
   "outputs": [],
   "source": [
    "#SE_final = SE_annotated.merge(ENSEMBL_Data, left_on = 'TXNAME', right_on = 'Gene stable ID', how = 'left')"
   ]
  },
  {
   "cell_type": "code",
   "execution_count": 66,
   "metadata": {},
   "outputs": [],
   "source": [
    "SE_annotated_new.to_csv('SE_annotated_new1.csv', header=True, index=False)"
   ]
  },
  {
   "cell_type": "code",
   "execution_count": 59,
   "metadata": {
    "scrolled": true
   },
   "outputs": [],
   "source": [
    "#ID_convert3.head(n=2)"
   ]
  },
  {
   "cell_type": "code",
   "execution_count": 25,
   "metadata": {},
   "outputs": [],
   "source": [
    "#A3SS_annotated = A3SS_shortlisted.merge(ID_convert3, left_on = 'GeneID', right_on = 'GENEID', how = 'left')\n",
    "#A5SS_annotated = A5SS_shortlisted.merge(ID_convert3, left_on = 'GeneID', right_on = 'GENEID', how = 'left')\n",
    "#MXE_annotated = MXE_shortlisted.merge(ID_convert3, left_on = 'GeneID', right_on = 'GENEID', how = 'left')\n",
    "#RI_annotated = RI_shortlisted.merge(ID_convert3, left_on = 'GeneID', right_on = 'GENEID', how = 'left')\n",
    "#SE_annotated = SE_shortlisted.merge(ID_convert3, left_on = 'GeneID', right_on = 'GENEID', how = 'left')"
   ]
  },
  {
   "cell_type": "code",
   "execution_count": 26,
   "metadata": {},
   "outputs": [
    {
     "data": {
      "text/html": [
       "<div>\n",
       "<style scoped>\n",
       "    .dataframe tbody tr th:only-of-type {\n",
       "        vertical-align: middle;\n",
       "    }\n",
       "\n",
       "    .dataframe tbody tr th {\n",
       "        vertical-align: top;\n",
       "    }\n",
       "\n",
       "    .dataframe thead th {\n",
       "        text-align: right;\n",
       "    }\n",
       "</style>\n",
       "<table border=\"1\" class=\"dataframe\">\n",
       "  <thead>\n",
       "    <tr style=\"text-align: right;\">\n",
       "      <th></th>\n",
       "      <th>ID</th>\n",
       "      <th>GeneID</th>\n",
       "      <th>geneSymbol</th>\n",
       "      <th>chr</th>\n",
       "      <th>strand</th>\n",
       "      <th>longExonStart_0base</th>\n",
       "      <th>longExonEnd</th>\n",
       "      <th>shortES</th>\n",
       "      <th>shortEE</th>\n",
       "      <th>flankingES</th>\n",
       "      <th>...</th>\n",
       "      <th>counts.Controlrep6</th>\n",
       "      <th>length.Controlrep1</th>\n",
       "      <th>length.Controlrep2</th>\n",
       "      <th>length.Controlrep3</th>\n",
       "      <th>length.Controlrep4</th>\n",
       "      <th>length.Controlrep5</th>\n",
       "      <th>length.Controlrep6</th>\n",
       "      <th>countsFromAbundance</th>\n",
       "      <th>GENEID</th>\n",
       "      <th>TXNAME</th>\n",
       "    </tr>\n",
       "  </thead>\n",
       "  <tbody>\n",
       "    <tr>\n",
       "      <th>0</th>\n",
       "      <td>5</td>\n",
       "      <td>MSTRG.6588</td>\n",
       "      <td>GONST1</td>\n",
       "      <td>chr2</td>\n",
       "      <td>-</td>\n",
       "      <td>5689496</td>\n",
       "      <td>5689626</td>\n",
       "      <td>5689496</td>\n",
       "      <td>5689561</td>\n",
       "      <td>5689953</td>\n",
       "      <td>...</td>\n",
       "      <td>677</td>\n",
       "      <td>936.091122</td>\n",
       "      <td>940.233346</td>\n",
       "      <td>946.156292</td>\n",
       "      <td>951.704775</td>\n",
       "      <td>882.980569</td>\n",
       "      <td>982.214315</td>\n",
       "      <td>lengthScaledTPM</td>\n",
       "      <td>MSTRG.6588</td>\n",
       "      <td>AT2G13650</td>\n",
       "    </tr>\n",
       "    <tr>\n",
       "      <th>1</th>\n",
       "      <td>18</td>\n",
       "      <td>MSTRG.20842</td>\n",
       "      <td>NaN</td>\n",
       "      <td>chr5</td>\n",
       "      <td>-</td>\n",
       "      <td>17572168</td>\n",
       "      <td>17572260</td>\n",
       "      <td>17572168</td>\n",
       "      <td>17572255</td>\n",
       "      <td>17572399</td>\n",
       "      <td>...</td>\n",
       "      <td>3205</td>\n",
       "      <td>2400.760961</td>\n",
       "      <td>2426.084848</td>\n",
       "      <td>2413.271462</td>\n",
       "      <td>2460.643871</td>\n",
       "      <td>2479.174865</td>\n",
       "      <td>2460.664781</td>\n",
       "      <td>lengthScaledTPM</td>\n",
       "      <td>MSTRG.20842</td>\n",
       "      <td>AT5G43745</td>\n",
       "    </tr>\n",
       "    <tr>\n",
       "      <th>2</th>\n",
       "      <td>26</td>\n",
       "      <td>MSTRG.5168</td>\n",
       "      <td>NAP5</td>\n",
       "      <td>chr1</td>\n",
       "      <td>-</td>\n",
       "      <td>26884938</td>\n",
       "      <td>26885161</td>\n",
       "      <td>26884938</td>\n",
       "      <td>26885117</td>\n",
       "      <td>26885233</td>\n",
       "      <td>...</td>\n",
       "      <td>4292</td>\n",
       "      <td>2127.942001</td>\n",
       "      <td>2036.053063</td>\n",
       "      <td>2050.929884</td>\n",
       "      <td>2131.670480</td>\n",
       "      <td>1882.553509</td>\n",
       "      <td>2121.528295</td>\n",
       "      <td>lengthScaledTPM</td>\n",
       "      <td>MSTRG.5168</td>\n",
       "      <td>AT1G71330</td>\n",
       "    </tr>\n",
       "    <tr>\n",
       "      <th>3</th>\n",
       "      <td>26</td>\n",
       "      <td>MSTRG.5168</td>\n",
       "      <td>NAP5</td>\n",
       "      <td>chr1</td>\n",
       "      <td>-</td>\n",
       "      <td>26884938</td>\n",
       "      <td>26885161</td>\n",
       "      <td>26884938</td>\n",
       "      <td>26885117</td>\n",
       "      <td>26885233</td>\n",
       "      <td>...</td>\n",
       "      <td>4292</td>\n",
       "      <td>2127.942001</td>\n",
       "      <td>2036.053063</td>\n",
       "      <td>2050.929884</td>\n",
       "      <td>2131.670480</td>\n",
       "      <td>1882.553509</td>\n",
       "      <td>2121.528295</td>\n",
       "      <td>lengthScaledTPM</td>\n",
       "      <td>MSTRG.5168</td>\n",
       "      <td>AT1G71340</td>\n",
       "    </tr>\n",
       "    <tr>\n",
       "      <th>4</th>\n",
       "      <td>26</td>\n",
       "      <td>MSTRG.5168</td>\n",
       "      <td>NAP5</td>\n",
       "      <td>chr1</td>\n",
       "      <td>-</td>\n",
       "      <td>26884938</td>\n",
       "      <td>26885161</td>\n",
       "      <td>26884938</td>\n",
       "      <td>26885117</td>\n",
       "      <td>26885233</td>\n",
       "      <td>...</td>\n",
       "      <td>4292</td>\n",
       "      <td>2127.942001</td>\n",
       "      <td>2036.053063</td>\n",
       "      <td>2050.929884</td>\n",
       "      <td>2131.670480</td>\n",
       "      <td>1882.553509</td>\n",
       "      <td>2121.528295</td>\n",
       "      <td>lengthScaledTPM</td>\n",
       "      <td>MSTRG.5168</td>\n",
       "      <td>AT1G71350</td>\n",
       "    </tr>\n",
       "  </tbody>\n",
       "</table>\n",
       "<p>5 rows × 45 columns</p>\n",
       "</div>"
      ],
      "text/plain": [
       "   ID       GeneID geneSymbol   chr strand  longExonStart_0base  longExonEnd  \\\n",
       "0   5   MSTRG.6588     GONST1  chr2      -              5689496      5689626   \n",
       "1  18  MSTRG.20842        NaN  chr5      -             17572168     17572260   \n",
       "2  26   MSTRG.5168       NAP5  chr1      -             26884938     26885161   \n",
       "3  26   MSTRG.5168       NAP5  chr1      -             26884938     26885161   \n",
       "4  26   MSTRG.5168       NAP5  chr1      -             26884938     26885161   \n",
       "\n",
       "    shortES   shortEE  flankingES  ...  counts.Controlrep6  \\\n",
       "0   5689496   5689561     5689953  ...                 677   \n",
       "1  17572168  17572255    17572399  ...                3205   \n",
       "2  26884938  26885117    26885233  ...                4292   \n",
       "3  26884938  26885117    26885233  ...                4292   \n",
       "4  26884938  26885117    26885233  ...                4292   \n",
       "\n",
       "   length.Controlrep1 length.Controlrep2 length.Controlrep3  \\\n",
       "0          936.091122         940.233346         946.156292   \n",
       "1         2400.760961        2426.084848        2413.271462   \n",
       "2         2127.942001        2036.053063        2050.929884   \n",
       "3         2127.942001        2036.053063        2050.929884   \n",
       "4         2127.942001        2036.053063        2050.929884   \n",
       "\n",
       "  length.Controlrep4 length.Controlrep5  length.Controlrep6  \\\n",
       "0         951.704775         882.980569          982.214315   \n",
       "1        2460.643871        2479.174865         2460.664781   \n",
       "2        2131.670480        1882.553509         2121.528295   \n",
       "3        2131.670480        1882.553509         2121.528295   \n",
       "4        2131.670480        1882.553509         2121.528295   \n",
       "\n",
       "   countsFromAbundance       GENEID     TXNAME  \n",
       "0      lengthScaledTPM   MSTRG.6588  AT2G13650  \n",
       "1      lengthScaledTPM  MSTRG.20842  AT5G43745  \n",
       "2      lengthScaledTPM   MSTRG.5168  AT1G71330  \n",
       "3      lengthScaledTPM   MSTRG.5168  AT1G71340  \n",
       "4      lengthScaledTPM   MSTRG.5168  AT1G71350  \n",
       "\n",
       "[5 rows x 45 columns]"
      ]
     },
     "execution_count": 26,
     "metadata": {},
     "output_type": "execute_result"
    }
   ],
   "source": [
    "#A3SS_annotated.head()\n",
    "#A5SS_annotated.head()\n",
    "#MXE_annotated.head()\n",
    "#RI_annotated.head()\n",
    "#SE_annotated.head()"
   ]
  },
  {
   "cell_type": "code",
   "execution_count": 27,
   "metadata": {
    "scrolled": true
   },
   "outputs": [
    {
     "data": {
      "text/html": [
       "<div>\n",
       "<style scoped>\n",
       "    .dataframe tbody tr th:only-of-type {\n",
       "        vertical-align: middle;\n",
       "    }\n",
       "\n",
       "    .dataframe tbody tr th {\n",
       "        vertical-align: top;\n",
       "    }\n",
       "\n",
       "    .dataframe thead th {\n",
       "        text-align: right;\n",
       "    }\n",
       "</style>\n",
       "<table border=\"1\" class=\"dataframe\">\n",
       "  <thead>\n",
       "    <tr style=\"text-align: right;\">\n",
       "      <th></th>\n",
       "      <th>Gene stable ID</th>\n",
       "      <th>Gene name</th>\n",
       "      <th>Gene type</th>\n",
       "      <th>Gene description</th>\n",
       "    </tr>\n",
       "  </thead>\n",
       "  <tbody>\n",
       "    <tr>\n",
       "      <th>0</th>\n",
       "      <td>AT3G11415</td>\n",
       "      <td>NaN</td>\n",
       "      <td>ncRNA</td>\n",
       "      <td>NaN</td>\n",
       "    </tr>\n",
       "    <tr>\n",
       "      <th>1</th>\n",
       "      <td>AT1G31258</td>\n",
       "      <td>NaN</td>\n",
       "      <td>ncRNA</td>\n",
       "      <td>other RNA [Source:TAIR;Acc:AT1G31258]</td>\n",
       "    </tr>\n",
       "    <tr>\n",
       "      <th>2</th>\n",
       "      <td>AT5G24735</td>\n",
       "      <td>NaN</td>\n",
       "      <td>ncRNA</td>\n",
       "      <td>other RNA [Source:TAIR;Acc:AT5G24735]</td>\n",
       "    </tr>\n",
       "    <tr>\n",
       "      <th>3</th>\n",
       "      <td>AT2G45780</td>\n",
       "      <td>NaN</td>\n",
       "      <td>ncRNA</td>\n",
       "      <td>other RNA [Source:TAIR;Acc:AT2G45780]</td>\n",
       "    </tr>\n",
       "    <tr>\n",
       "      <th>4</th>\n",
       "      <td>AT2G42425</td>\n",
       "      <td>NaN</td>\n",
       "      <td>ncRNA</td>\n",
       "      <td>Unknown gene [Source:TAIR;Acc:AT2G42425]</td>\n",
       "    </tr>\n",
       "  </tbody>\n",
       "</table>\n",
       "</div>"
      ],
      "text/plain": [
       "  Gene stable ID Gene name Gene type                          Gene description\n",
       "0      AT3G11415       NaN     ncRNA                                       NaN\n",
       "1      AT1G31258       NaN     ncRNA     other RNA [Source:TAIR;Acc:AT1G31258]\n",
       "2      AT5G24735       NaN     ncRNA     other RNA [Source:TAIR;Acc:AT5G24735]\n",
       "3      AT2G45780       NaN     ncRNA     other RNA [Source:TAIR;Acc:AT2G45780]\n",
       "4      AT2G42425       NaN     ncRNA  Unknown gene [Source:TAIR;Acc:AT2G42425]"
      ]
     },
     "execution_count": 27,
     "metadata": {},
     "output_type": "execute_result"
    }
   ],
   "source": [
    "ENSEMBL_Data.head()"
   ]
  },
  {
   "cell_type": "markdown",
   "metadata": {},
   "source": [
    "A3SS_annotated.to_csv('A3SS_annotated.csv', header=True, index=False)\n",
    "A5SS_annotated.to_csv('A5SS_annotated.csv', header=True, index=False)\n",
    "MXE_annotated.to_csv('MXE_annotated.csv', header=True, index=False)\n",
    "RI_annotated.to_csv('RI_annotated.csv', header=True, index=False)\n",
    "SE_annotated.to_csv('SE_annotated.csv', header=True, index=False)"
   ]
  },
  {
   "cell_type": "code",
   "execution_count": 28,
   "metadata": {},
   "outputs": [],
   "source": [
    "A3SS_final = A3SS_annotated.merge(ENSEMBL_Data, left_on = 'TXNAME', right_on = 'Gene stable ID', how = 'left')\n",
    "A5SS_final = A5SS_annotated.merge(ENSEMBL_Data, left_on = 'TXNAME', right_on = 'Gene stable ID', how = 'left')\n",
    "MXE_final = MXE_annotated.merge(ENSEMBL_Data, left_on = 'TXNAME', right_on = 'Gene stable ID', how = 'left')\n",
    "RI_final = RI_annotated.merge(ENSEMBL_Data, left_on = 'TXNAME', right_on = 'Gene stable ID', how = 'left')\n",
    "SE_final = SE_annotated.merge(ENSEMBL_Data, left_on = 'TXNAME', right_on = 'Gene stable ID', how = 'left')"
   ]
  },
  {
   "cell_type": "code",
   "execution_count": 29,
   "metadata": {},
   "outputs": [
    {
     "data": {
      "text/html": [
       "<div>\n",
       "<style scoped>\n",
       "    .dataframe tbody tr th:only-of-type {\n",
       "        vertical-align: middle;\n",
       "    }\n",
       "\n",
       "    .dataframe tbody tr th {\n",
       "        vertical-align: top;\n",
       "    }\n",
       "\n",
       "    .dataframe thead th {\n",
       "        text-align: right;\n",
       "    }\n",
       "</style>\n",
       "<table border=\"1\" class=\"dataframe\">\n",
       "  <thead>\n",
       "    <tr style=\"text-align: right;\">\n",
       "      <th></th>\n",
       "      <th>ID</th>\n",
       "      <th>GeneID</th>\n",
       "      <th>geneSymbol</th>\n",
       "      <th>chr</th>\n",
       "      <th>strand</th>\n",
       "      <th>longExonStart_0base</th>\n",
       "      <th>longExonEnd</th>\n",
       "      <th>shortES</th>\n",
       "      <th>shortEE</th>\n",
       "      <th>flankingES</th>\n",
       "      <th>...</th>\n",
       "      <th>length.Controlrep4</th>\n",
       "      <th>length.Controlrep5</th>\n",
       "      <th>length.Controlrep6</th>\n",
       "      <th>countsFromAbundance</th>\n",
       "      <th>GENEID</th>\n",
       "      <th>TXNAME</th>\n",
       "      <th>Gene stable ID</th>\n",
       "      <th>Gene name</th>\n",
       "      <th>Gene type</th>\n",
       "      <th>Gene description</th>\n",
       "    </tr>\n",
       "  </thead>\n",
       "  <tbody>\n",
       "    <tr>\n",
       "      <th>0</th>\n",
       "      <td>5</td>\n",
       "      <td>MSTRG.6588</td>\n",
       "      <td>GONST1</td>\n",
       "      <td>chr2</td>\n",
       "      <td>-</td>\n",
       "      <td>5689496</td>\n",
       "      <td>5689626</td>\n",
       "      <td>5689496</td>\n",
       "      <td>5689561</td>\n",
       "      <td>5689953</td>\n",
       "      <td>...</td>\n",
       "      <td>951.704775</td>\n",
       "      <td>882.980569</td>\n",
       "      <td>982.214315</td>\n",
       "      <td>lengthScaledTPM</td>\n",
       "      <td>MSTRG.6588</td>\n",
       "      <td>AT2G13650</td>\n",
       "      <td>AT2G13650</td>\n",
       "      <td>GONST1</td>\n",
       "      <td>protein_coding</td>\n",
       "      <td>GDP-mannose transporter (Fragment) [Source:Uni...</td>\n",
       "    </tr>\n",
       "    <tr>\n",
       "      <th>1</th>\n",
       "      <td>18</td>\n",
       "      <td>MSTRG.20842</td>\n",
       "      <td>NaN</td>\n",
       "      <td>chr5</td>\n",
       "      <td>-</td>\n",
       "      <td>17572168</td>\n",
       "      <td>17572260</td>\n",
       "      <td>17572168</td>\n",
       "      <td>17572255</td>\n",
       "      <td>17572399</td>\n",
       "      <td>...</td>\n",
       "      <td>2460.643871</td>\n",
       "      <td>2479.174865</td>\n",
       "      <td>2460.664781</td>\n",
       "      <td>lengthScaledTPM</td>\n",
       "      <td>MSTRG.20842</td>\n",
       "      <td>AT5G43745</td>\n",
       "      <td>AT5G43745</td>\n",
       "      <td>NaN</td>\n",
       "      <td>protein_coding</td>\n",
       "      <td>Putative ion channel POLLUX-like 2 [Source:Uni...</td>\n",
       "    </tr>\n",
       "    <tr>\n",
       "      <th>2</th>\n",
       "      <td>26</td>\n",
       "      <td>MSTRG.5168</td>\n",
       "      <td>NAP5</td>\n",
       "      <td>chr1</td>\n",
       "      <td>-</td>\n",
       "      <td>26884938</td>\n",
       "      <td>26885161</td>\n",
       "      <td>26884938</td>\n",
       "      <td>26885117</td>\n",
       "      <td>26885233</td>\n",
       "      <td>...</td>\n",
       "      <td>2131.670480</td>\n",
       "      <td>1882.553509</td>\n",
       "      <td>2121.528295</td>\n",
       "      <td>lengthScaledTPM</td>\n",
       "      <td>MSTRG.5168</td>\n",
       "      <td>AT1G71330</td>\n",
       "      <td>AT1G71330</td>\n",
       "      <td>NAP5</td>\n",
       "      <td>protein_coding</td>\n",
       "      <td>Probable non-intrinsic ABC protein 5 [Source:U...</td>\n",
       "    </tr>\n",
       "    <tr>\n",
       "      <th>3</th>\n",
       "      <td>26</td>\n",
       "      <td>MSTRG.5168</td>\n",
       "      <td>NAP5</td>\n",
       "      <td>chr1</td>\n",
       "      <td>-</td>\n",
       "      <td>26884938</td>\n",
       "      <td>26885161</td>\n",
       "      <td>26884938</td>\n",
       "      <td>26885117</td>\n",
       "      <td>26885233</td>\n",
       "      <td>...</td>\n",
       "      <td>2131.670480</td>\n",
       "      <td>1882.553509</td>\n",
       "      <td>2121.528295</td>\n",
       "      <td>lengthScaledTPM</td>\n",
       "      <td>MSTRG.5168</td>\n",
       "      <td>AT1G71340</td>\n",
       "      <td>AT1G71340</td>\n",
       "      <td>GDPD4</td>\n",
       "      <td>protein_coding</td>\n",
       "      <td>Glycerophosphodiester phosphodiesterase GDPD4 ...</td>\n",
       "    </tr>\n",
       "    <tr>\n",
       "      <th>4</th>\n",
       "      <td>26</td>\n",
       "      <td>MSTRG.5168</td>\n",
       "      <td>NAP5</td>\n",
       "      <td>chr1</td>\n",
       "      <td>-</td>\n",
       "      <td>26884938</td>\n",
       "      <td>26885161</td>\n",
       "      <td>26884938</td>\n",
       "      <td>26885117</td>\n",
       "      <td>26885233</td>\n",
       "      <td>...</td>\n",
       "      <td>2131.670480</td>\n",
       "      <td>1882.553509</td>\n",
       "      <td>2121.528295</td>\n",
       "      <td>lengthScaledTPM</td>\n",
       "      <td>MSTRG.5168</td>\n",
       "      <td>AT1G71350</td>\n",
       "      <td>AT1G71350</td>\n",
       "      <td>NaN</td>\n",
       "      <td>protein_coding</td>\n",
       "      <td>Eukaryotic translation initiation factor SUI1 ...</td>\n",
       "    </tr>\n",
       "  </tbody>\n",
       "</table>\n",
       "<p>5 rows × 49 columns</p>\n",
       "</div>"
      ],
      "text/plain": [
       "   ID       GeneID geneSymbol   chr strand  longExonStart_0base  longExonEnd  \\\n",
       "0   5   MSTRG.6588     GONST1  chr2      -              5689496      5689626   \n",
       "1  18  MSTRG.20842        NaN  chr5      -             17572168     17572260   \n",
       "2  26   MSTRG.5168       NAP5  chr1      -             26884938     26885161   \n",
       "3  26   MSTRG.5168       NAP5  chr1      -             26884938     26885161   \n",
       "4  26   MSTRG.5168       NAP5  chr1      -             26884938     26885161   \n",
       "\n",
       "    shortES   shortEE  flankingES  ...  length.Controlrep4  \\\n",
       "0   5689496   5689561     5689953  ...          951.704775   \n",
       "1  17572168  17572255    17572399  ...         2460.643871   \n",
       "2  26884938  26885117    26885233  ...         2131.670480   \n",
       "3  26884938  26885117    26885233  ...         2131.670480   \n",
       "4  26884938  26885117    26885233  ...         2131.670480   \n",
       "\n",
       "   length.Controlrep5 length.Controlrep6 countsFromAbundance       GENEID  \\\n",
       "0          882.980569         982.214315     lengthScaledTPM   MSTRG.6588   \n",
       "1         2479.174865        2460.664781     lengthScaledTPM  MSTRG.20842   \n",
       "2         1882.553509        2121.528295     lengthScaledTPM   MSTRG.5168   \n",
       "3         1882.553509        2121.528295     lengthScaledTPM   MSTRG.5168   \n",
       "4         1882.553509        2121.528295     lengthScaledTPM   MSTRG.5168   \n",
       "\n",
       "      TXNAME  Gene stable ID  Gene name       Gene type  \\\n",
       "0  AT2G13650       AT2G13650     GONST1  protein_coding   \n",
       "1  AT5G43745       AT5G43745        NaN  protein_coding   \n",
       "2  AT1G71330       AT1G71330       NAP5  protein_coding   \n",
       "3  AT1G71340       AT1G71340      GDPD4  protein_coding   \n",
       "4  AT1G71350       AT1G71350        NaN  protein_coding   \n",
       "\n",
       "                                    Gene description  \n",
       "0  GDP-mannose transporter (Fragment) [Source:Uni...  \n",
       "1  Putative ion channel POLLUX-like 2 [Source:Uni...  \n",
       "2  Probable non-intrinsic ABC protein 5 [Source:U...  \n",
       "3  Glycerophosphodiester phosphodiesterase GDPD4 ...  \n",
       "4  Eukaryotic translation initiation factor SUI1 ...  \n",
       "\n",
       "[5 rows x 49 columns]"
      ]
     },
     "execution_count": 29,
     "metadata": {},
     "output_type": "execute_result"
    }
   ],
   "source": [
    "A3SS_final.head()"
   ]
  },
  {
   "cell_type": "code",
   "execution_count": 30,
   "metadata": {},
   "outputs": [],
   "source": [
    "A3SS_final.to_csv('A3SS_final1.csv', header=True, index=False)\n",
    "A5SS_final.to_csv('A5SS_final1.csv', header=True, index=False)\n",
    "MXE_final.to_csv('MXE_final1.csv', header=True, index=False)\n",
    "RI_final.to_csv('RI_final1.csv', header=True, index=False)\n",
    "SE_final.to_csv('SE_final1.csv', header=True, index=False)"
   ]
  },
  {
   "cell_type": "code",
   "execution_count": 31,
   "metadata": {},
   "outputs": [
    {
     "data": {
      "text/plain": [
       "287"
      ]
     },
     "execution_count": 31,
     "metadata": {},
     "output_type": "execute_result"
    }
   ],
   "source": [
    "#len(A3SS_final)\n",
    "#len(A5SS_final)\n",
    "#len(MXE_final)\n",
    "#len(RI_final)\n",
    "len(SE_final)"
   ]
  },
  {
   "cell_type": "code",
   "execution_count": 32,
   "metadata": {},
   "outputs": [
    {
     "data": {
      "text/plain": [
       "Gene type\n",
       "lncRNA                 11\n",
       "ncRNA                   3\n",
       "nontranslating_CDS      2\n",
       "protein_coding        461\n",
       "snoRNA                  3\n",
       "Name: count, dtype: int64"
      ]
     },
     "execution_count": 32,
     "metadata": {},
     "output_type": "execute_result"
    }
   ],
   "source": [
    "A3SS_final['count'] = 1\n",
    "A3SS_groupby = A3SS_final.groupby(['Gene type']).count()['count']\n",
    "A3SS_groupby"
   ]
  },
  {
   "cell_type": "code",
   "execution_count": 33,
   "metadata": {},
   "outputs": [
    {
     "data": {
      "text/plain": [
       "Index(['ID', 'GeneID', 'geneSymbol', 'chr', 'strand', 'longExonStart_0base',\n",
       "       'longExonEnd', 'shortES', 'shortEE', 'flankingES', 'flankingEE', 'ID.1',\n",
       "       'IJC_SAMPLE_1', 'SJC_SAMPLE_1', 'IJC_SAMPLE_2', 'SJC_SAMPLE_2',\n",
       "       'IncFormLen', 'SkipFormLen', 'PValue', 'FDR', 'IncLevel1', 'IncLevel2',\n",
       "       'IncLevelDifference', 'Transcript_ID', 'abundance.Controlrep1',\n",
       "       'abundance.Controlrep2', 'abundance.Controlrep3',\n",
       "       'abundance.Controlrep4', 'abundance.Controlrep5',\n",
       "       'abundance.Controlrep6', 'counts.Controlrep1', 'counts.Controlrep2',\n",
       "       'counts.Controlrep3', 'counts.Controlrep4', 'counts.Controlrep5',\n",
       "       'counts.Controlrep6', 'length.Controlrep1', 'length.Controlrep2',\n",
       "       'length.Controlrep3', 'length.Controlrep4', 'length.Controlrep5',\n",
       "       'length.Controlrep6', 'countsFromAbundance', 'GENEID', 'TXNAME',\n",
       "       'Gene stable ID', 'Gene name', 'Gene type', 'Gene description',\n",
       "       'count'],\n",
       "      dtype='object')"
      ]
     },
     "execution_count": 33,
     "metadata": {},
     "output_type": "execute_result"
    }
   ],
   "source": [
    "A3SS_final.columns"
   ]
  },
  {
   "cell_type": "code",
   "execution_count": 34,
   "metadata": {},
   "outputs": [],
   "source": [
    "A3SS_gene = A3SS_final[['Gene stable ID', 'Gene type']]\n",
    "A5SS_gene = A5SS_final[['Gene stable ID', 'Gene type']]\n",
    "MXE_gene = MXE_final[['Gene stable ID', 'Gene type']]\n",
    "RI_gene = RI_final[['Gene stable ID', 'Gene type']]\n",
    "SE_gene = SE_final[['Gene stable ID', 'Gene type']]"
   ]
  },
  {
   "cell_type": "code",
   "execution_count": 35,
   "metadata": {},
   "outputs": [
    {
     "data": {
      "text/html": [
       "<div>\n",
       "<style scoped>\n",
       "    .dataframe tbody tr th:only-of-type {\n",
       "        vertical-align: middle;\n",
       "    }\n",
       "\n",
       "    .dataframe tbody tr th {\n",
       "        vertical-align: top;\n",
       "    }\n",
       "\n",
       "    .dataframe thead th {\n",
       "        text-align: right;\n",
       "    }\n",
       "</style>\n",
       "<table border=\"1\" class=\"dataframe\">\n",
       "  <thead>\n",
       "    <tr style=\"text-align: right;\">\n",
       "      <th></th>\n",
       "      <th>Gene stable ID</th>\n",
       "      <th>Gene type</th>\n",
       "    </tr>\n",
       "  </thead>\n",
       "  <tbody>\n",
       "    <tr>\n",
       "      <th>0</th>\n",
       "      <td>AT2G13650</td>\n",
       "      <td>protein_coding</td>\n",
       "    </tr>\n",
       "    <tr>\n",
       "      <th>1</th>\n",
       "      <td>AT5G43745</td>\n",
       "      <td>protein_coding</td>\n",
       "    </tr>\n",
       "    <tr>\n",
       "      <th>2</th>\n",
       "      <td>AT1G71330</td>\n",
       "      <td>protein_coding</td>\n",
       "    </tr>\n",
       "    <tr>\n",
       "      <th>3</th>\n",
       "      <td>AT1G71340</td>\n",
       "      <td>protein_coding</td>\n",
       "    </tr>\n",
       "    <tr>\n",
       "      <th>4</th>\n",
       "      <td>AT1G71350</td>\n",
       "      <td>protein_coding</td>\n",
       "    </tr>\n",
       "    <tr>\n",
       "      <th>5</th>\n",
       "      <td>AT2G18440</td>\n",
       "      <td>ncRNA</td>\n",
       "    </tr>\n",
       "    <tr>\n",
       "      <th>6</th>\n",
       "      <td>AT4G26555</td>\n",
       "      <td>protein_coding</td>\n",
       "    </tr>\n",
       "    <tr>\n",
       "      <th>7</th>\n",
       "      <td>AT3G11470</td>\n",
       "      <td>protein_coding</td>\n",
       "    </tr>\n",
       "    <tr>\n",
       "      <th>8</th>\n",
       "      <td>AT1G67320</td>\n",
       "      <td>protein_coding</td>\n",
       "    </tr>\n",
       "    <tr>\n",
       "      <th>9</th>\n",
       "      <td>AT1G67325</td>\n",
       "      <td>protein_coding</td>\n",
       "    </tr>\n",
       "  </tbody>\n",
       "</table>\n",
       "</div>"
      ],
      "text/plain": [
       "  Gene stable ID       Gene type\n",
       "0      AT2G13650  protein_coding\n",
       "1      AT5G43745  protein_coding\n",
       "2      AT1G71330  protein_coding\n",
       "3      AT1G71340  protein_coding\n",
       "4      AT1G71350  protein_coding\n",
       "5      AT2G18440           ncRNA\n",
       "6      AT4G26555  protein_coding\n",
       "7      AT3G11470  protein_coding\n",
       "8      AT1G67320  protein_coding\n",
       "9      AT1G67325  protein_coding"
      ]
     },
     "execution_count": 35,
     "metadata": {},
     "output_type": "execute_result"
    }
   ],
   "source": [
    "A3SS_gene.head(n=10)"
   ]
  },
  {
   "cell_type": "markdown",
   "metadata": {},
   "source": [
    "**Select unique values from a particular column**"
   ]
  },
  {
   "cell_type": "code",
   "execution_count": 36,
   "metadata": {},
   "outputs": [],
   "source": [
    "A3SS_gene_type = A3SS_final['GeneID'].unique().tolist()\n",
    "A5SS_gene_type = A5SS_final['GeneID'].unique().tolist()\n",
    "MXE_gene_type = MXE_final['GeneID'].unique().tolist()\n",
    "RI_gene_type = RI_final['GeneID'].unique().tolist()\n",
    "SE_gene_type = SE_final['GeneID'].unique().tolist()"
   ]
  },
  {
   "cell_type": "code",
   "execution_count": 37,
   "metadata": {},
   "outputs": [
    {
     "name": "stdout",
     "output_type": "stream",
     "text": [
      " Trancript number in A3SS : 348 \n",
      " Trancript number in A5SS : 229 \n",
      " Trancript number in MXE : 0 \n",
      " Trancript number in RI : 842 \n",
      " Trancript number in SE : 181\n"
     ]
    }
   ],
   "source": [
    "print('','Trancript number in A3SS :', len(A3SS_gene_type),'\\n','Trancript number in A5SS :', len(A5SS_gene_type),'\\n','Trancript number in MXE :', len(MXE_gene_type),'\\n','Trancript number in RI :', len(RI_gene_type),'\\n','Trancript number in SE :', len(SE_gene_type))"
   ]
  },
  {
   "cell_type": "code",
   "execution_count": 38,
   "metadata": {},
   "outputs": [],
   "source": [
    "A3SS_gene_no = A3SS_final['Gene stable ID'].unique().tolist()\n",
    "A5SS_gene_no = A5SS_final['Gene stable ID'].unique().tolist()\n",
    "MXE_gene_no = MXE_final['Gene stable ID'].unique().tolist()\n",
    "RI_gene_no = RI_final['Gene stable ID'].unique().tolist()\n",
    "SE_gene_no = SE_final['Gene stable ID'].unique().tolist()"
   ]
  },
  {
   "cell_type": "code",
   "execution_count": 39,
   "metadata": {},
   "outputs": [
    {
     "name": "stdout",
     "output_type": "stream",
     "text": [
      " Number of gene in A3SS : 430 \n",
      " Number of gene in A5SS : 287 \n",
      " Number of gene in MXE : 0 \n",
      " Number of gene in RI : 1029 \n",
      " Number of gene in SE : 229\n"
     ]
    }
   ],
   "source": [
    "print('','Number of gene in A3SS :', len(A3SS_gene_no),'\\n','Number of gene in A5SS :', len(A5SS_gene_no),'\\n','Number of gene in MXE :', len(MXE_gene_no),'\\n','Number of gene in RI :', len(RI_gene_no),'\\n','Number of gene in SE :', len(SE_gene_no))"
   ]
  },
  {
   "cell_type": "code",
   "execution_count": 40,
   "metadata": {},
   "outputs": [],
   "source": [
    "A3SS_selected = DataFrame(A3SS_final[['Gene type']])"
   ]
  },
  {
   "cell_type": "code",
   "execution_count": 41,
   "metadata": {},
   "outputs": [
    {
     "data": {
      "text/plain": [
       "483"
      ]
     },
     "execution_count": 41,
     "metadata": {},
     "output_type": "execute_result"
    }
   ],
   "source": [
    "len(A3SS_selected)"
   ]
  },
  {
   "cell_type": "code",
   "execution_count": 42,
   "metadata": {},
   "outputs": [
    {
     "data": {
      "text/plain": [
       "Gene type\n",
       "lncRNA                 11\n",
       "ncRNA                   3\n",
       "nontranslating_CDS      2\n",
       "protein_coding        461\n",
       "snoRNA                  3\n",
       "Name: count, dtype: int64"
      ]
     },
     "execution_count": 42,
     "metadata": {},
     "output_type": "execute_result"
    }
   ],
   "source": [
    "A3SS_selected['count'] = 1\n",
    "A3SS_groupby1 = A3SS_selected.groupby(['Gene type']).count()['count']\n",
    "A3SS_groupby1"
   ]
  },
  {
   "cell_type": "code",
   "execution_count": null,
   "metadata": {},
   "outputs": [],
   "source": []
  }
 ],
 "metadata": {
  "kernelspec": {
   "display_name": "Python 3 (ipykernel)",
   "language": "python",
   "name": "python3"
  },
  "language_info": {
   "codemirror_mode": {
    "name": "ipython",
    "version": 3
   },
   "file_extension": ".py",
   "mimetype": "text/x-python",
   "name": "python",
   "nbconvert_exporter": "python",
   "pygments_lexer": "ipython3",
   "version": "3.10.0"
  }
 },
 "nbformat": 4,
 "nbformat_minor": 2
}
