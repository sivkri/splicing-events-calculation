{
 "cells": [
  {
   "cell_type": "code",
   "execution_count": 1,
   "metadata": {},
   "outputs": [],
   "source": [
    "import pandas as pd\n",
    "import numpy as np\n",
    "import os\n",
    "import sys\n",
    "import scipy\n",
    "import csv\n",
    "from pandas import Series, DataFrame, read_excel\n",
    "import matplotlib.pyplot as plt"
   ]
  },
  {
   "cell_type": "markdown",
   "metadata": {},
   "source": [
    "# ENSEMBL data has been downloaded separately for Gene type, Gene name and Gene Description"
   ]
  },
  {
   "cell_type": "code",
   "execution_count": 2,
   "metadata": {},
   "outputs": [],
   "source": [
    "A3SS = pd.read_csv('A3SS.MATS.JCEC.txt', delimiter = '\\t')\n",
    "A5SS = pd.read_csv('A5SS.MATS.JCEC.txt', delimiter = '\\t')\n",
    "MXE = pd.read_csv('MXE.MATS.JCEC.txt', delimiter = '\\t')\n",
    "RI = pd.read_csv('RI.MATS.JCEC.txt', delimiter = '\\t')\n",
    "SE = pd.read_csv('SE.MATS.JCEC.txt', delimiter = '\\t')\n",
    "\n",
    "txi_lengthscaledTPM_WT= pd.read_csv('/home/siva/Splicing/tximport/txi_lengthscaledTPM_WT.csv')\n",
    "\n",
    "Ensembl_exons_equal= pd.read_csv('/home/siva/Splicing/df_annotation/df_genes_=.csv')\n",
    "Ensembl_exons_j= pd.read_csv('/home/siva/Splicing/df_annotation/df_genes_j.csv')\n",
    "Ensembl_exons_u= pd.read_csv('/home/siva/Splicing/df_annotation/df_genes_u.csv')\n",
    "Ensembl_exons_o= pd.read_csv('/home/siva/Splicing/df_annotation/df_genes_o.csv')\n",
    "Ensembl_exons_x= pd.read_csv('/home/siva/Splicing/df_annotation/df_genes_x.csv')\n",
    "\n",
    "ENSEMBL_Data1 = pd.read_csv('/home/siva/Splicing/ENSEMBL/ENSEMBL_44_type.txt', delimiter = ',')\n",
    "ENSEMBL_Data2 = pd.read_csv('/home/siva/Splicing/ENSEMBL/ENSEMBL_44_name.txt', delimiter = ',')\n",
    "ENSEMBL_Data3 = pd.read_csv('/home/siva/Splicing/ENSEMBL/ENSEMBL_44_description.txt', delimiter = '\\t')\n",
    "\n",
    "WT_Diff_exp = pd.read_csv('/home/siva/Splicing/deseq2/new_treated-Control_vs_untreated-Control_deseq2.xls', delimiter = ',')"
   ]
  },
  {
   "cell_type": "markdown",
   "metadata": {},
   "source": [
    "# **Visualizing the selected column**"
   ]
  },
  {
   "cell_type": "code",
   "execution_count": 3,
   "metadata": {},
   "outputs": [
    {
     "data": {
      "text/html": [
       "<div>\n",
       "<style scoped>\n",
       "    .dataframe tbody tr th:only-of-type {\n",
       "        vertical-align: middle;\n",
       "    }\n",
       "\n",
       "    .dataframe tbody tr th {\n",
       "        vertical-align: top;\n",
       "    }\n",
       "\n",
       "    .dataframe thead th {\n",
       "        text-align: right;\n",
       "    }\n",
       "</style>\n",
       "<table border=\"1\" class=\"dataframe\">\n",
       "  <thead>\n",
       "    <tr style=\"text-align: right;\">\n",
       "      <th></th>\n",
       "      <th>Transcript_ID</th>\n",
       "      <th>abundance.Controlrep1</th>\n",
       "      <th>abundance.Controlrep2</th>\n",
       "      <th>abundance.Controlrep3</th>\n",
       "      <th>abundance.Controlrep4</th>\n",
       "      <th>abundance.Controlrep5</th>\n",
       "      <th>abundance.Controlrep6</th>\n",
       "      <th>counts.Controlrep1</th>\n",
       "      <th>counts.Controlrep2</th>\n",
       "      <th>counts.Controlrep3</th>\n",
       "      <th>counts.Controlrep4</th>\n",
       "      <th>counts.Controlrep5</th>\n",
       "      <th>counts.Controlrep6</th>\n",
       "      <th>length.Controlrep1</th>\n",
       "      <th>length.Controlrep2</th>\n",
       "      <th>length.Controlrep3</th>\n",
       "      <th>length.Controlrep4</th>\n",
       "      <th>length.Controlrep5</th>\n",
       "      <th>length.Controlrep6</th>\n",
       "      <th>countsFromAbundance</th>\n",
       "    </tr>\n",
       "  </thead>\n",
       "  <tbody>\n",
       "    <tr>\n",
       "      <th>0</th>\n",
       "      <td>MSTRG.1</td>\n",
       "      <td>6.483969</td>\n",
       "      <td>4.124629</td>\n",
       "      <td>6.369704</td>\n",
       "      <td>4.792945</td>\n",
       "      <td>3.000356</td>\n",
       "      <td>5.125094</td>\n",
       "      <td>398</td>\n",
       "      <td>267</td>\n",
       "      <td>415</td>\n",
       "      <td>308</td>\n",
       "      <td>208</td>\n",
       "      <td>314</td>\n",
       "      <td>1474.977000</td>\n",
       "      <td>1497.499000</td>\n",
       "      <td>1502.944000</td>\n",
       "      <td>1517.653000</td>\n",
       "      <td>1544.343000</td>\n",
       "      <td>1495.067000</td>\n",
       "      <td>lengthScaledTPM</td>\n",
       "    </tr>\n",
       "    <tr>\n",
       "      <th>1</th>\n",
       "      <td>MSTRG.10</td>\n",
       "      <td>19.337483</td>\n",
       "      <td>13.387297</td>\n",
       "      <td>19.873034</td>\n",
       "      <td>18.905987</td>\n",
       "      <td>16.020265</td>\n",
       "      <td>19.316794</td>\n",
       "      <td>791</td>\n",
       "      <td>578</td>\n",
       "      <td>862</td>\n",
       "      <td>809</td>\n",
       "      <td>739</td>\n",
       "      <td>788</td>\n",
       "      <td>962.709189</td>\n",
       "      <td>987.936012</td>\n",
       "      <td>993.700130</td>\n",
       "      <td>1025.157463</td>\n",
       "      <td>1036.076688</td>\n",
       "      <td>1011.567972</td>\n",
       "      <td>lengthScaledTPM</td>\n",
       "    </tr>\n",
       "    <tr>\n",
       "      <th>2</th>\n",
       "      <td>MSTRG.100</td>\n",
       "      <td>0.511333</td>\n",
       "      <td>1.434536</td>\n",
       "      <td>0.535550</td>\n",
       "      <td>3.344224</td>\n",
       "      <td>4.671785</td>\n",
       "      <td>3.449529</td>\n",
       "      <td>24</td>\n",
       "      <td>72</td>\n",
       "      <td>27</td>\n",
       "      <td>165</td>\n",
       "      <td>249</td>\n",
       "      <td>163</td>\n",
       "      <td>1196.629000</td>\n",
       "      <td>1132.513000</td>\n",
       "      <td>1186.015000</td>\n",
       "      <td>1180.450000</td>\n",
       "      <td>1094.851000</td>\n",
       "      <td>1166.322000</td>\n",
       "      <td>lengthScaledTPM</td>\n",
       "    </tr>\n",
       "    <tr>\n",
       "      <th>3</th>\n",
       "      <td>MSTRG.1000</td>\n",
       "      <td>81.650916</td>\n",
       "      <td>95.963162</td>\n",
       "      <td>89.265808</td>\n",
       "      <td>79.504876</td>\n",
       "      <td>72.994182</td>\n",
       "      <td>84.313197</td>\n",
       "      <td>5547</td>\n",
       "      <td>6879</td>\n",
       "      <td>6429</td>\n",
       "      <td>5649</td>\n",
       "      <td>5588</td>\n",
       "      <td>5709</td>\n",
       "      <td>1679.745597</td>\n",
       "      <td>1687.835429</td>\n",
       "      <td>1643.385762</td>\n",
       "      <td>1663.835732</td>\n",
       "      <td>1650.149856</td>\n",
       "      <td>1664.363362</td>\n",
       "      <td>lengthScaledTPM</td>\n",
       "    </tr>\n",
       "    <tr>\n",
       "      <th>4</th>\n",
       "      <td>MSTRG.10000</td>\n",
       "      <td>6.147123</td>\n",
       "      <td>7.241106</td>\n",
       "      <td>6.751019</td>\n",
       "      <td>17.445138</td>\n",
       "      <td>17.759656</td>\n",
       "      <td>17.193343</td>\n",
       "      <td>338</td>\n",
       "      <td>420</td>\n",
       "      <td>393</td>\n",
       "      <td>1003</td>\n",
       "      <td>1100</td>\n",
       "      <td>942</td>\n",
       "      <td>1373.697761</td>\n",
       "      <td>1302.269929</td>\n",
       "      <td>1387.226311</td>\n",
       "      <td>1362.269468</td>\n",
       "      <td>1311.564639</td>\n",
       "      <td>1344.187140</td>\n",
       "      <td>lengthScaledTPM</td>\n",
       "    </tr>\n",
       "  </tbody>\n",
       "</table>\n",
       "</div>"
      ],
      "text/plain": [
       "  Transcript_ID  abundance.Controlrep1  abundance.Controlrep2  \\\n",
       "0       MSTRG.1               6.483969               4.124629   \n",
       "1      MSTRG.10              19.337483              13.387297   \n",
       "2     MSTRG.100               0.511333               1.434536   \n",
       "3    MSTRG.1000              81.650916              95.963162   \n",
       "4   MSTRG.10000               6.147123               7.241106   \n",
       "\n",
       "   abundance.Controlrep3  abundance.Controlrep4  abundance.Controlrep5  \\\n",
       "0               6.369704               4.792945               3.000356   \n",
       "1              19.873034              18.905987              16.020265   \n",
       "2               0.535550               3.344224               4.671785   \n",
       "3              89.265808              79.504876              72.994182   \n",
       "4               6.751019              17.445138              17.759656   \n",
       "\n",
       "   abundance.Controlrep6  counts.Controlrep1  counts.Controlrep2  \\\n",
       "0               5.125094                 398                 267   \n",
       "1              19.316794                 791                 578   \n",
       "2               3.449529                  24                  72   \n",
       "3              84.313197                5547                6879   \n",
       "4              17.193343                 338                 420   \n",
       "\n",
       "   counts.Controlrep3  counts.Controlrep4  counts.Controlrep5  \\\n",
       "0                 415                 308                 208   \n",
       "1                 862                 809                 739   \n",
       "2                  27                 165                 249   \n",
       "3                6429                5649                5588   \n",
       "4                 393                1003                1100   \n",
       "\n",
       "   counts.Controlrep6  length.Controlrep1  length.Controlrep2  \\\n",
       "0                 314         1474.977000         1497.499000   \n",
       "1                 788          962.709189          987.936012   \n",
       "2                 163         1196.629000         1132.513000   \n",
       "3                5709         1679.745597         1687.835429   \n",
       "4                 942         1373.697761         1302.269929   \n",
       "\n",
       "   length.Controlrep3  length.Controlrep4  length.Controlrep5  \\\n",
       "0         1502.944000         1517.653000         1544.343000   \n",
       "1          993.700130         1025.157463         1036.076688   \n",
       "2         1186.015000         1180.450000         1094.851000   \n",
       "3         1643.385762         1663.835732         1650.149856   \n",
       "4         1387.226311         1362.269468         1311.564639   \n",
       "\n",
       "   length.Controlrep6 countsFromAbundance  \n",
       "0         1495.067000     lengthScaledTPM  \n",
       "1         1011.567972     lengthScaledTPM  \n",
       "2         1166.322000     lengthScaledTPM  \n",
       "3         1664.363362     lengthScaledTPM  \n",
       "4         1344.187140     lengthScaledTPM  "
      ]
     },
     "execution_count": 3,
     "metadata": {},
     "output_type": "execute_result"
    }
   ],
   "source": [
    "txi_lengthscaledTPM_WT.head()"
   ]
  },
  {
   "cell_type": "code",
   "execution_count": 4,
   "metadata": {},
   "outputs": [
    {
     "data": {
      "text/plain": [
       "22899"
      ]
     },
     "execution_count": 4,
     "metadata": {},
     "output_type": "execute_result"
    }
   ],
   "source": [
    "len(txi_lengthscaledTPM_WT)"
   ]
  },
  {
   "cell_type": "code",
   "execution_count": 5,
   "metadata": {},
   "outputs": [],
   "source": [
    "A3SS= DataFrame(A3SS)\n",
    "A5SS= DataFrame(A5SS)\n",
    "MXE= DataFrame(MXE)\n",
    "RI= DataFrame(RI)\n",
    "SE= DataFrame(SE)\n",
    "txi_lengthscaledTPM_WT = DataFrame(txi_lengthscaledTPM_WT)"
   ]
  },
  {
   "cell_type": "code",
   "execution_count": 6,
   "metadata": {},
   "outputs": [
    {
     "data": {
      "text/html": [
       "<div>\n",
       "<style scoped>\n",
       "    .dataframe tbody tr th:only-of-type {\n",
       "        vertical-align: middle;\n",
       "    }\n",
       "\n",
       "    .dataframe tbody tr th {\n",
       "        vertical-align: top;\n",
       "    }\n",
       "\n",
       "    .dataframe thead th {\n",
       "        text-align: right;\n",
       "    }\n",
       "</style>\n",
       "<table border=\"1\" class=\"dataframe\">\n",
       "  <thead>\n",
       "    <tr style=\"text-align: right;\">\n",
       "      <th></th>\n",
       "      <th>Transcript_ID</th>\n",
       "      <th>abundance.Controlrep1</th>\n",
       "      <th>abundance.Controlrep2</th>\n",
       "      <th>abundance.Controlrep3</th>\n",
       "      <th>abundance.Controlrep4</th>\n",
       "      <th>abundance.Controlrep5</th>\n",
       "      <th>abundance.Controlrep6</th>\n",
       "      <th>counts.Controlrep1</th>\n",
       "      <th>counts.Controlrep2</th>\n",
       "      <th>counts.Controlrep3</th>\n",
       "      <th>counts.Controlrep4</th>\n",
       "      <th>counts.Controlrep5</th>\n",
       "      <th>counts.Controlrep6</th>\n",
       "      <th>length.Controlrep1</th>\n",
       "      <th>length.Controlrep2</th>\n",
       "      <th>length.Controlrep3</th>\n",
       "      <th>length.Controlrep4</th>\n",
       "      <th>length.Controlrep5</th>\n",
       "      <th>length.Controlrep6</th>\n",
       "      <th>countsFromAbundance</th>\n",
       "    </tr>\n",
       "  </thead>\n",
       "  <tbody>\n",
       "    <tr>\n",
       "      <th>0</th>\n",
       "      <td>MSTRG.1</td>\n",
       "      <td>6.483969</td>\n",
       "      <td>4.124629</td>\n",
       "      <td>6.369704</td>\n",
       "      <td>4.792945</td>\n",
       "      <td>3.000356</td>\n",
       "      <td>5.125094</td>\n",
       "      <td>398</td>\n",
       "      <td>267</td>\n",
       "      <td>415</td>\n",
       "      <td>308</td>\n",
       "      <td>208</td>\n",
       "      <td>314</td>\n",
       "      <td>1474.977000</td>\n",
       "      <td>1497.499000</td>\n",
       "      <td>1502.944000</td>\n",
       "      <td>1517.653000</td>\n",
       "      <td>1544.343000</td>\n",
       "      <td>1495.067000</td>\n",
       "      <td>lengthScaledTPM</td>\n",
       "    </tr>\n",
       "    <tr>\n",
       "      <th>1</th>\n",
       "      <td>MSTRG.10</td>\n",
       "      <td>19.337483</td>\n",
       "      <td>13.387297</td>\n",
       "      <td>19.873034</td>\n",
       "      <td>18.905987</td>\n",
       "      <td>16.020265</td>\n",
       "      <td>19.316794</td>\n",
       "      <td>791</td>\n",
       "      <td>578</td>\n",
       "      <td>862</td>\n",
       "      <td>809</td>\n",
       "      <td>739</td>\n",
       "      <td>788</td>\n",
       "      <td>962.709189</td>\n",
       "      <td>987.936012</td>\n",
       "      <td>993.700130</td>\n",
       "      <td>1025.157463</td>\n",
       "      <td>1036.076688</td>\n",
       "      <td>1011.567972</td>\n",
       "      <td>lengthScaledTPM</td>\n",
       "    </tr>\n",
       "    <tr>\n",
       "      <th>2</th>\n",
       "      <td>MSTRG.100</td>\n",
       "      <td>0.511333</td>\n",
       "      <td>1.434536</td>\n",
       "      <td>0.535550</td>\n",
       "      <td>3.344224</td>\n",
       "      <td>4.671785</td>\n",
       "      <td>3.449529</td>\n",
       "      <td>24</td>\n",
       "      <td>72</td>\n",
       "      <td>27</td>\n",
       "      <td>165</td>\n",
       "      <td>249</td>\n",
       "      <td>163</td>\n",
       "      <td>1196.629000</td>\n",
       "      <td>1132.513000</td>\n",
       "      <td>1186.015000</td>\n",
       "      <td>1180.450000</td>\n",
       "      <td>1094.851000</td>\n",
       "      <td>1166.322000</td>\n",
       "      <td>lengthScaledTPM</td>\n",
       "    </tr>\n",
       "    <tr>\n",
       "      <th>3</th>\n",
       "      <td>MSTRG.1000</td>\n",
       "      <td>81.650916</td>\n",
       "      <td>95.963162</td>\n",
       "      <td>89.265808</td>\n",
       "      <td>79.504876</td>\n",
       "      <td>72.994182</td>\n",
       "      <td>84.313197</td>\n",
       "      <td>5547</td>\n",
       "      <td>6879</td>\n",
       "      <td>6429</td>\n",
       "      <td>5649</td>\n",
       "      <td>5588</td>\n",
       "      <td>5709</td>\n",
       "      <td>1679.745597</td>\n",
       "      <td>1687.835429</td>\n",
       "      <td>1643.385762</td>\n",
       "      <td>1663.835732</td>\n",
       "      <td>1650.149856</td>\n",
       "      <td>1664.363362</td>\n",
       "      <td>lengthScaledTPM</td>\n",
       "    </tr>\n",
       "    <tr>\n",
       "      <th>4</th>\n",
       "      <td>MSTRG.10000</td>\n",
       "      <td>6.147123</td>\n",
       "      <td>7.241106</td>\n",
       "      <td>6.751019</td>\n",
       "      <td>17.445138</td>\n",
       "      <td>17.759656</td>\n",
       "      <td>17.193343</td>\n",
       "      <td>338</td>\n",
       "      <td>420</td>\n",
       "      <td>393</td>\n",
       "      <td>1003</td>\n",
       "      <td>1100</td>\n",
       "      <td>942</td>\n",
       "      <td>1373.697761</td>\n",
       "      <td>1302.269929</td>\n",
       "      <td>1387.226311</td>\n",
       "      <td>1362.269468</td>\n",
       "      <td>1311.564639</td>\n",
       "      <td>1344.187140</td>\n",
       "      <td>lengthScaledTPM</td>\n",
       "    </tr>\n",
       "  </tbody>\n",
       "</table>\n",
       "</div>"
      ],
      "text/plain": [
       "  Transcript_ID  abundance.Controlrep1  abundance.Controlrep2  \\\n",
       "0       MSTRG.1               6.483969               4.124629   \n",
       "1      MSTRG.10              19.337483              13.387297   \n",
       "2     MSTRG.100               0.511333               1.434536   \n",
       "3    MSTRG.1000              81.650916              95.963162   \n",
       "4   MSTRG.10000               6.147123               7.241106   \n",
       "\n",
       "   abundance.Controlrep3  abundance.Controlrep4  abundance.Controlrep5  \\\n",
       "0               6.369704               4.792945               3.000356   \n",
       "1              19.873034              18.905987              16.020265   \n",
       "2               0.535550               3.344224               4.671785   \n",
       "3              89.265808              79.504876              72.994182   \n",
       "4               6.751019              17.445138              17.759656   \n",
       "\n",
       "   abundance.Controlrep6  counts.Controlrep1  counts.Controlrep2  \\\n",
       "0               5.125094                 398                 267   \n",
       "1              19.316794                 791                 578   \n",
       "2               3.449529                  24                  72   \n",
       "3              84.313197                5547                6879   \n",
       "4              17.193343                 338                 420   \n",
       "\n",
       "   counts.Controlrep3  counts.Controlrep4  counts.Controlrep5  \\\n",
       "0                 415                 308                 208   \n",
       "1                 862                 809                 739   \n",
       "2                  27                 165                 249   \n",
       "3                6429                5649                5588   \n",
       "4                 393                1003                1100   \n",
       "\n",
       "   counts.Controlrep6  length.Controlrep1  length.Controlrep2  \\\n",
       "0                 314         1474.977000         1497.499000   \n",
       "1                 788          962.709189          987.936012   \n",
       "2                 163         1196.629000         1132.513000   \n",
       "3                5709         1679.745597         1687.835429   \n",
       "4                 942         1373.697761         1302.269929   \n",
       "\n",
       "   length.Controlrep3  length.Controlrep4  length.Controlrep5  \\\n",
       "0         1502.944000         1517.653000         1544.343000   \n",
       "1          993.700130         1025.157463         1036.076688   \n",
       "2         1186.015000         1180.450000         1094.851000   \n",
       "3         1643.385762         1663.835732         1650.149856   \n",
       "4         1387.226311         1362.269468         1311.564639   \n",
       "\n",
       "   length.Controlrep6 countsFromAbundance  \n",
       "0         1495.067000     lengthScaledTPM  \n",
       "1         1011.567972     lengthScaledTPM  \n",
       "2         1166.322000     lengthScaledTPM  \n",
       "3         1664.363362     lengthScaledTPM  \n",
       "4         1344.187140     lengthScaledTPM  "
      ]
     },
     "execution_count": 6,
     "metadata": {},
     "output_type": "execute_result"
    }
   ],
   "source": [
    "#A3SS.tail(n=5)\n",
    "#len(A3SS)\n",
    "#len(A5SS)\n",
    "#len(MXE)\n",
    "#len(RI)\n",
    "#len(SE)\n",
    "txi_lengthscaledTPM_WT.head()"
   ]
  },
  {
   "cell_type": "markdown",
   "metadata": {},
   "source": [
    "**Removing the duplicates based on a single column, but it will drop the corresponding other columns too**"
   ]
  },
  {
   "cell_type": "markdown",
   "metadata": {},
   "source": [
    "**A3SS_remove_duplicates = A3SS.drop_duplicates(['GeneID'])**"
   ]
  },
  {
   "cell_type": "code",
   "execution_count": 7,
   "metadata": {},
   "outputs": [],
   "source": [
    "A3SS_lengthscaledTPM = A3SS.merge(txi_lengthscaledTPM_WT, left_on = 'GeneID', right_on = 'Transcript_ID', how = 'left')\n",
    "A5SS_lengthscaledTPM = A5SS.merge(txi_lengthscaledTPM_WT, left_on = 'GeneID', right_on = 'Transcript_ID', how = 'left')\n",
    "MXE_lengthscaledTPM = MXE.merge(txi_lengthscaledTPM_WT, left_on = 'GeneID', right_on = 'Transcript_ID', how = 'left')\n",
    "RI_lengthscaledTPM = RI.merge(txi_lengthscaledTPM_WT, left_on = 'GeneID', right_on = 'Transcript_ID', how = 'left')\n",
    "SE_lengthscaledTPM = SE.merge(txi_lengthscaledTPM_WT, left_on = 'GeneID', right_on = 'Transcript_ID', how = 'left')"
   ]
  },
  {
   "cell_type": "markdown",
   "metadata": {},
   "source": [
    "**Filtering based on the FDR value**"
   ]
  },
  {
   "cell_type": "markdown",
   "metadata": {},
   "source": [
    "#A3SS_significant = A3SS_lengthscaledTPM.loc[(A3SS_lengthscaledTPM['FDR'] < 0.05)]\n",
    "#A5SS_significant = A5SS_lengthscaledTPM.loc[(A5SS_lengthscaledTPM['FDR'] < 0.05)]\n",
    "#MXE_significant = MXE_lengthscaledTPM.loc[(MXE_lengthscaledTPM['FDR'] < 0.05)]\n",
    "#RI_significant = RI_lengthscaledTPM.loc[(RI_lengthscaledTPM['FDR'] < 0.05)]\n",
    "#SE_significant = SE_lengthscaledTPM.loc[(SE_lengthscaledTPM['FDR'] < 0.05)]"
   ]
  },
  {
   "cell_type": "markdown",
   "metadata": {},
   "source": [
    "**Shortlist the counts based on FDR<0.05 and TPM>0.6 in all the samples**"
   ]
  },
  {
   "cell_type": "code",
   "execution_count": 8,
   "metadata": {},
   "outputs": [],
   "source": [
    "A3SS_shortlisted = A3SS_lengthscaledTPM.loc[(A3SS_lengthscaledTPM['FDR'] < 0.05) & (A3SS_lengthscaledTPM['abundance.Controlrep1'] > 0.6) & (A3SS_lengthscaledTPM['abundance.Controlrep2'] > 0.6) & (A3SS_lengthscaledTPM['abundance.Controlrep3'] > 0.6) & (A3SS_lengthscaledTPM['abundance.Controlrep4'] > 0.6) & (A3SS_lengthscaledTPM['abundance.Controlrep5'] > 0.6) & (A3SS_lengthscaledTPM['abundance.Controlrep6'] > 0.6)]\n",
    "A5SS_shortlisted = A5SS_lengthscaledTPM.loc[(A5SS_lengthscaledTPM['FDR'] < 0.05) & (A5SS_lengthscaledTPM['abundance.Controlrep1'] > 0.6) & (A5SS_lengthscaledTPM['abundance.Controlrep2'] > 0.6) & (A5SS_lengthscaledTPM['abundance.Controlrep3'] > 0.6) & (A5SS_lengthscaledTPM['abundance.Controlrep4'] > 0.6) & (A5SS_lengthscaledTPM['abundance.Controlrep5'] > 0.6) & (A5SS_lengthscaledTPM['abundance.Controlrep6'] > 0.6)]\n",
    "MXE_shortlisted = MXE_lengthscaledTPM.loc[(MXE_lengthscaledTPM['FDR'] < 0.05) & (MXE_lengthscaledTPM['abundance.Controlrep1'] > 0.6) & (MXE_lengthscaledTPM['abundance.Controlrep2'] > 0.6) & (MXE_lengthscaledTPM['abundance.Controlrep3'] > 0.6) & (MXE_lengthscaledTPM['abundance.Controlrep4'] > 0.6) & (MXE_lengthscaledTPM['abundance.Controlrep5'] > 0.6) & (MXE_lengthscaledTPM['abundance.Controlrep6'] > 0.6)]\n",
    "RI_shortlisted = RI_lengthscaledTPM.loc[(RI_lengthscaledTPM['FDR'] < 0.05) & (RI_lengthscaledTPM['abundance.Controlrep1'] > 0.6) & (RI_lengthscaledTPM['abundance.Controlrep2'] > 0.6) & (RI_lengthscaledTPM['abundance.Controlrep3'] > 0.6) & (RI_lengthscaledTPM['abundance.Controlrep4'] > 0.6) & (RI_lengthscaledTPM['abundance.Controlrep5'] > 0.6) & (RI_lengthscaledTPM['abundance.Controlrep6'] > 0.6)]\n",
    "SE_shortlisted = SE_lengthscaledTPM.loc[(SE_lengthscaledTPM['FDR'] < 0.05) & (SE_lengthscaledTPM['abundance.Controlrep1'] > 0.6) & (SE_lengthscaledTPM['abundance.Controlrep2'] > 0.6) & (SE_lengthscaledTPM['abundance.Controlrep3'] > 0.6) & (SE_lengthscaledTPM['abundance.Controlrep4'] > 0.6) & (SE_lengthscaledTPM['abundance.Controlrep5'] > 0.6) & (SE_lengthscaledTPM['abundance.Controlrep6'] > 0.6)]"
   ]
  },
  {
   "cell_type": "code",
   "execution_count": 9,
   "metadata": {},
   "outputs": [],
   "source": [
    "A3SS_added_equal = A3SS_shortlisted.merge(Ensembl_exons_equal, left_on = ['longExonStart_0base', 'longExonEnd'], right_on = ['exonStart_0base1', 'end'], how = 'left')\n",
    "A5SS_added_equal = A5SS_shortlisted.merge(Ensembl_exons_equal, left_on = ['longExonStart_0base', 'longExonEnd'], right_on = ['exonStart_0base1', 'end'], how = 'left')\n",
    "MXE_added_equal = MXE_shortlisted.merge(Ensembl_exons_equal, left_on = ['1stExonStart_0base', '1stExonEnd'], right_on = ['exonStart_0base1', 'end'], how = 'left')\n",
    "RI_added_equal = RI_shortlisted.merge(Ensembl_exons_equal, left_on = ['riExonStart_0base', 'riExonEnd'], right_on = ['exonStart_0base1', 'end'], how = 'left')\n",
    "SE_added_equal = SE_shortlisted.merge(Ensembl_exons_equal, left_on = ['exonStart_0base', 'exonEnd'], right_on = ['exonStart_0base1', 'end'], how = 'left')"
   ]
  },
  {
   "cell_type": "code",
   "execution_count": 10,
   "metadata": {},
   "outputs": [],
   "source": [
    "A3SS_unique_an = A3SS_added_equal.loc[A3SS_added_equal.class_code.isna()]\n",
    "A5SS_unique_an = A5SS_added_equal.loc[A5SS_added_equal.class_code.isna()]\n",
    "MXE_unique_an = MXE_added_equal.loc[MXE_added_equal.class_code.isna()]\n",
    "RI_unique_an = RI_added_equal.loc[RI_added_equal.class_code.isna()]\n",
    "SE_unique_an = SE_added_equal.loc[SE_added_equal.class_code.isna()]"
   ]
  },
  {
   "cell_type": "code",
   "execution_count": 11,
   "metadata": {},
   "outputs": [],
   "source": [
    "A3SS_unique_an1 = A3SS_unique_an.drop(['exonStart_0base1', 'end', 'class_code', 'gene_ID'], axis = 1)\n",
    "A5SS_unique_an1 = A5SS_unique_an.drop(['exonStart_0base1', 'end', 'class_code', 'gene_ID'], axis = 1)\n",
    "MXE_unique_an1 = MXE_unique_an.drop(['exonStart_0base1', 'end', 'class_code', 'gene_ID'], axis = 1)\n",
    "RI_unique_an1 = RI_unique_an.drop(['exonStart_0base1', 'end', 'class_code', 'gene_ID'], axis = 1)\n",
    "SE_unique_an1 = SE_unique_an.drop(['exonStart_0base1', 'end', 'class_code', 'gene_ID'], axis = 1)"
   ]
  },
  {
   "cell_type": "code",
   "execution_count": 12,
   "metadata": {},
   "outputs": [],
   "source": [
    "A3SS_added_j = A3SS_unique_an1.merge(Ensembl_exons_j, left_on = ['longExonStart_0base', 'longExonEnd'], right_on = ['exonStart_0base1', 'end'], how = 'left')\n",
    "A5SS_added_j = A5SS_unique_an1.merge(Ensembl_exons_j, left_on = ['longExonStart_0base', 'longExonEnd'], right_on = ['exonStart_0base1', 'end'], how = 'left')\n",
    "MXE_added_j = MXE_unique_an1.merge(Ensembl_exons_j, left_on = ['1stExonStart_0base', '1stExonEnd'], right_on = ['exonStart_0base1', 'end'], how = 'left')\n",
    "RI_added_j = RI_unique_an1.merge(Ensembl_exons_j, left_on = ['riExonStart_0base', 'riExonEnd'], right_on = ['exonStart_0base1', 'end'], how = 'left')\n",
    "SE_added_j = SE_unique_an1.merge(Ensembl_exons_j, left_on = ['exonStart_0base', 'exonEnd'], right_on = ['exonStart_0base1', 'end'], how = 'left')"
   ]
  },
  {
   "cell_type": "code",
   "execution_count": 13,
   "metadata": {},
   "outputs": [],
   "source": [
    "A3SS_unique_an2 = A3SS_added_j.loc[A3SS_added_j.class_code.isna()]\n",
    "A5SS_unique_an2 = A5SS_added_j.loc[A5SS_added_j.class_code.isna()]\n",
    "MXE_unique_an2 = MXE_added_j.loc[MXE_added_j.class_code.isna()]\n",
    "RI_unique_an2 = RI_added_j.loc[RI_added_j.class_code.isna()]\n",
    "SE_unique_an2 = SE_added_j.loc[SE_added_j.class_code.isna()]"
   ]
  },
  {
   "cell_type": "code",
   "execution_count": 14,
   "metadata": {},
   "outputs": [],
   "source": [
    "A3SS_unique_an3 = A3SS_unique_an2.drop(['exonStart_0base1', 'end', 'class_code', 'gene_ID'], axis = 1)\n",
    "A5SS_unique_an3 = A5SS_unique_an2.drop(['exonStart_0base1', 'end', 'class_code', 'gene_ID'], axis = 1)\n",
    "MXE_unique_an3 = MXE_unique_an2.drop(['exonStart_0base1', 'end', 'class_code', 'gene_ID'], axis = 1)\n",
    "RI_unique_an3 = RI_unique_an2.drop(['exonStart_0base1', 'end', 'class_code', 'gene_ID'], axis = 1)\n",
    "SE_unique_an3 = SE_unique_an2.drop(['exonStart_0base1', 'end', 'class_code', 'gene_ID'], axis = 1)"
   ]
  },
  {
   "cell_type": "code",
   "execution_count": 15,
   "metadata": {},
   "outputs": [],
   "source": [
    "A3SS_added_o = A3SS_unique_an3.merge(Ensembl_exons_o, left_on = ['longExonStart_0base', 'longExonEnd'], right_on = ['exonStart_0base1', 'end'], how = 'left')\n",
    "A5SS_added_o = A5SS_unique_an3.merge(Ensembl_exons_o, left_on = ['longExonStart_0base', 'longExonEnd'], right_on = ['exonStart_0base1', 'end'], how = 'left')\n",
    "MXE_added_o = MXE_unique_an3.merge(Ensembl_exons_o, left_on = ['1stExonStart_0base', '1stExonEnd'], right_on = ['exonStart_0base1', 'end'], how = 'left')\n",
    "RI_added_o = RI_unique_an3.merge(Ensembl_exons_o, left_on = ['riExonStart_0base', 'riExonEnd'], right_on = ['exonStart_0base1', 'end'], how = 'left')\n",
    "SE_added_o = SE_unique_an3.merge(Ensembl_exons_o, left_on = ['exonStart_0base', 'exonEnd'], right_on = ['exonStart_0base1', 'end'], how = 'left')"
   ]
  },
  {
   "cell_type": "code",
   "execution_count": 16,
   "metadata": {},
   "outputs": [],
   "source": [
    "A3SS_unique_an4 = A3SS_added_o.loc[A3SS_added_o.class_code.isna()]\n",
    "A5SS_unique_an4 = A5SS_added_o.loc[A5SS_added_o.class_code.isna()]\n",
    "MXE_unique_an4 = MXE_added_o.loc[MXE_added_o.class_code.isna()]\n",
    "RI_unique_an4 = RI_added_o.loc[RI_added_o.class_code.isna()]\n",
    "SE_unique_an4 = SE_added_o.loc[SE_added_o.class_code.isna()]"
   ]
  },
  {
   "cell_type": "code",
   "execution_count": 17,
   "metadata": {},
   "outputs": [],
   "source": [
    "A3SS_unique_an5 = A3SS_unique_an4.drop(['exonStart_0base1', 'end', 'class_code', 'gene_ID'], axis = 1)\n",
    "A5SS_unique_an5 = A5SS_unique_an4.drop(['exonStart_0base1', 'end', 'class_code', 'gene_ID'], axis = 1)\n",
    "MXE_unique_an5 = MXE_unique_an4.drop(['exonStart_0base1', 'end', 'class_code', 'gene_ID'], axis = 1)\n",
    "RI_unique_an5 = RI_unique_an4.drop(['exonStart_0base1', 'end', 'class_code', 'gene_ID'], axis = 1)\n",
    "SE_unique_an5 = SE_unique_an4.drop(['exonStart_0base1', 'end', 'class_code', 'gene_ID'], axis = 1)"
   ]
  },
  {
   "cell_type": "code",
   "execution_count": 18,
   "metadata": {},
   "outputs": [],
   "source": [
    "A3SS_added_u = A3SS_unique_an5.merge(Ensembl_exons_u, left_on = ['longExonStart_0base', 'longExonEnd'], right_on = ['exonStart_0base1', 'end'], how = 'left')\n",
    "A5SS_added_u = A5SS_unique_an5.merge(Ensembl_exons_u, left_on = ['longExonStart_0base', 'longExonEnd'], right_on = ['exonStart_0base1', 'end'], how = 'left')\n",
    "MXE_added_u = MXE_unique_an5.merge(Ensembl_exons_u, left_on = ['1stExonStart_0base', '1stExonEnd'], right_on = ['exonStart_0base1', 'end'], how = 'left')\n",
    "RI_added_u = RI_unique_an5.merge(Ensembl_exons_u, left_on = ['riExonStart_0base', 'riExonEnd'], right_on = ['exonStart_0base1', 'end'], how = 'left')\n",
    "SE_added_u = SE_unique_an5.merge(Ensembl_exons_u, left_on = ['exonStart_0base', 'exonEnd'], right_on = ['exonStart_0base1', 'end'], how = 'left')"
   ]
  },
  {
   "cell_type": "code",
   "execution_count": 19,
   "metadata": {},
   "outputs": [],
   "source": [
    "A3SS_unique_an6 = A3SS_added_u.loc[A3SS_added_u.class_code.isna()]\n",
    "A5SS_unique_an6 = A5SS_added_u.loc[A5SS_added_u.class_code.isna()]\n",
    "MXE_unique_an6 = MXE_added_u.loc[MXE_added_u.class_code.isna()]\n",
    "RI_unique_an6 = RI_added_u.loc[RI_added_u.class_code.isna()]\n",
    "SE_unique_an6 = SE_added_u.loc[SE_added_u.class_code.isna()]"
   ]
  },
  {
   "cell_type": "code",
   "execution_count": 20,
   "metadata": {},
   "outputs": [],
   "source": [
    "A3SS_unique_an7 = A3SS_unique_an6.drop(['exonStart_0base1', 'end', 'class_code', 'gene_ID'], axis = 1)\n",
    "A5SS_unique_an7 = A5SS_unique_an6.drop(['exonStart_0base1', 'end', 'class_code', 'gene_ID'], axis = 1)\n",
    "MXE_unique_an7 = MXE_unique_an6.drop(['exonStart_0base1', 'end', 'class_code', 'gene_ID'], axis = 1)\n",
    "RI_unique_an7 = RI_unique_an6.drop(['exonStart_0base1', 'end', 'class_code', 'gene_ID'], axis = 1)\n",
    "SE_unique_an7 = SE_unique_an6.drop(['exonStart_0base1', 'end', 'class_code', 'gene_ID'], axis = 1)"
   ]
  },
  {
   "cell_type": "code",
   "execution_count": 21,
   "metadata": {},
   "outputs": [],
   "source": [
    "A3SS_added_x = A3SS_unique_an7.merge(Ensembl_exons_x, left_on = ['longExonStart_0base', 'longExonEnd'], right_on = ['exonStart_0base1', 'end'], how = 'left')\n",
    "A5SS_added_x = A5SS_unique_an7.merge(Ensembl_exons_x, left_on = ['longExonStart_0base', 'longExonEnd'], right_on = ['exonStart_0base1', 'end'], how = 'left')\n",
    "MXE_added_x = MXE_unique_an7.merge(Ensembl_exons_x, left_on = ['1stExonStart_0base', '1stExonEnd'], right_on = ['exonStart_0base1', 'end'], how = 'left')\n",
    "RI_added_x = RI_unique_an7.merge(Ensembl_exons_x, left_on = ['riExonStart_0base', 'riExonEnd'], right_on = ['exonStart_0base1', 'end'], how = 'left')\n",
    "SE_added_x = SE_unique_an7.merge(Ensembl_exons_x, left_on = ['exonStart_0base', 'exonEnd'], right_on = ['exonStart_0base1', 'end'], how = 'left')"
   ]
  },
  {
   "cell_type": "markdown",
   "metadata": {},
   "source": [
    "**Removing the column which are all empty values based on the column = end**"
   ]
  },
  {
   "cell_type": "code",
   "execution_count": 22,
   "metadata": {},
   "outputs": [],
   "source": [
    "A3SS_add_equal = A3SS_added_equal.dropna(subset = ['end'])\n",
    "A3SS_add_J = A3SS_added_j.dropna(subset = ['end'])\n",
    "A3SS_add_O = A3SS_added_o.dropna(subset = ['end'])\n",
    "A3SS_add_U = A3SS_added_u.dropna(subset = ['end'])\n",
    "A3SS_add_X = A3SS_added_x.dropna(subset = ['end'])\n",
    "\n",
    "A5SS_add_equal = A5SS_added_equal.dropna(subset = ['end'])\n",
    "A5SS_add_J = A5SS_added_j.dropna(subset = ['end'])\n",
    "A5SS_add_O = A5SS_added_o.dropna(subset = ['end'])\n",
    "A5SS_add_U = A5SS_added_u.dropna(subset = ['end'])\n",
    "A5SS_add_X = A5SS_added_x.dropna(subset = ['end'])\n",
    "\n",
    "MXE_add_equal = MXE_added_equal.dropna(subset = ['end'])\n",
    "MXE_add_J = MXE_added_j.dropna(subset = ['end'])\n",
    "MXE_add_O = MXE_added_o.dropna(subset = ['end'])\n",
    "MXE_add_U = MXE_added_u.dropna(subset = ['end'])\n",
    "MXE_add_X = MXE_added_x.dropna(subset = ['end'])\n",
    "\n",
    "RI_add_equal = RI_added_equal.dropna(subset = ['end'])\n",
    "RI_add_J = RI_added_j.dropna(subset = ['end'])\n",
    "RI_add_O = RI_added_o.dropna(subset = ['end'])\n",
    "RI_add_U = RI_added_u.dropna(subset = ['end'])\n",
    "RI_add_X = RI_added_x.dropna(subset = ['end'])\n",
    "\n",
    "SE_add_equal = SE_added_equal.dropna(subset = ['end'])\n",
    "SE_add_J = SE_added_j.dropna(subset = ['end'])\n",
    "SE_add_O = SE_added_o.dropna(subset = ['end'])\n",
    "SE_add_U = SE_added_u.dropna(subset = ['end'])\n",
    "SE_add_X = SE_added_x.dropna(subset = ['end'])"
   ]
  },
  {
   "cell_type": "markdown",
   "metadata": {},
   "source": [
    "**Appending the individually annotated files**"
   ]
  },
  {
   "cell_type": "code",
   "execution_count": 23,
   "metadata": {},
   "outputs": [],
   "source": [
    "A3SS_final = A3SS_add_equal.append(A3SS_add_J)\n",
    "A3SS_final = A3SS_final.append(A3SS_add_O)\n",
    "A3SS_final = A3SS_final.append(A3SS_add_U)\n",
    "A3SS_final = A3SS_final.append(A3SS_add_X)\n",
    "\n",
    "A5SS_final = A5SS_add_equal.append(A5SS_add_J)\n",
    "A5SS_final = A5SS_final.append(A5SS_add_O)\n",
    "A5SS_final = A5SS_final.append(A5SS_add_U)\n",
    "A5SS_final = A5SS_final.append(A5SS_add_X)\n",
    "\n",
    "MXE_final = MXE_add_equal.append(MXE_add_J)\n",
    "MXE_final = MXE_final.append(MXE_add_O)\n",
    "MXE_final = MXE_final.append(MXE_add_U)\n",
    "MXE_final = MXE_final.append(MXE_add_X)\n",
    "\n",
    "RI_final = RI_add_equal.append(RI_add_J)\n",
    "RI_final = RI_final.append(RI_add_O)\n",
    "RI_final = RI_final.append(RI_add_U)\n",
    "RI_final = RI_final.append(RI_add_X)\n",
    "\n",
    "SE_final = SE_add_equal.append(SE_add_J)\n",
    "SE_final = SE_final.append(SE_add_O)\n",
    "SE_final = SE_final.append(SE_add_U)\n",
    "SE_final = SE_final.append(SE_add_X)"
   ]
  },
  {
   "cell_type": "markdown",
   "metadata": {},
   "source": [
    "# Annotating the combined files"
   ]
  },
  {
   "cell_type": "code",
   "execution_count": 24,
   "metadata": {},
   "outputs": [],
   "source": [
    "A3SS_final = A3SS_final.merge(ENSEMBL_Data1, left_on = 'gene_ID', right_on = 'Gene stable ID', how = 'left')\n",
    "A5SS_final = A5SS_final.merge(ENSEMBL_Data1, left_on = 'gene_ID', right_on = 'Gene stable ID', how = 'left')\n",
    "MXE_final = MXE_final.merge(ENSEMBL_Data1, left_on = 'gene_ID', right_on = 'Gene stable ID', how = 'left')\n",
    "RI_final = RI_final.merge(ENSEMBL_Data1, left_on = 'gene_ID', right_on = 'Gene stable ID', how = 'left')\n",
    "SE_final = SE_final.merge(ENSEMBL_Data1, left_on = 'gene_ID', right_on = 'Gene stable ID', how = 'left')"
   ]
  },
  {
   "cell_type": "code",
   "execution_count": 25,
   "metadata": {},
   "outputs": [],
   "source": [
    "A3SS_final = A3SS_final.merge(ENSEMBL_Data2, left_on = 'gene_ID', right_on = 'Gene stable ID', how = 'left')\n",
    "A5SS_final = A5SS_final.merge(ENSEMBL_Data2, left_on = 'gene_ID', right_on = 'Gene stable ID', how = 'left')\n",
    "MXE_final = MXE_final.merge(ENSEMBL_Data2, left_on = 'gene_ID', right_on = 'Gene stable ID', how = 'left')\n",
    "RI_final = RI_final.merge(ENSEMBL_Data2, left_on = 'gene_ID', right_on = 'Gene stable ID', how = 'left')\n",
    "SE_final = SE_final.merge(ENSEMBL_Data2, left_on = 'gene_ID', right_on = 'Gene stable ID', how = 'left')"
   ]
  },
  {
   "cell_type": "code",
   "execution_count": 26,
   "metadata": {},
   "outputs": [],
   "source": [
    "A3SS_final = A3SS_final.merge(ENSEMBL_Data3, left_on = 'gene_ID', right_on = 'Gene stable ID', how = 'left')\n",
    "A5SS_final = A5SS_final.merge(ENSEMBL_Data3, left_on = 'gene_ID', right_on = 'Gene stable ID', how = 'left')\n",
    "MXE_final = MXE_final.merge(ENSEMBL_Data3, left_on = 'gene_ID', right_on = 'Gene stable ID', how = 'left')\n",
    "RI_final = RI_final.merge(ENSEMBL_Data3, left_on = 'gene_ID', right_on = 'Gene stable ID', how = 'left')\n",
    "SE_final = SE_final.merge(ENSEMBL_Data3, left_on = 'gene_ID', right_on = 'Gene stable ID', how = 'left')"
   ]
  },
  {
   "cell_type": "code",
   "execution_count": 27,
   "metadata": {},
   "outputs": [],
   "source": [
    "A3SS_final = A3SS_final.drop(columns=['countsFromAbundance', 'Gene stable ID_x', 'Gene stable ID_y', 'Gene stable ID'])\n",
    "A5SS_final = A5SS_final.drop(columns=['countsFromAbundance', 'Gene stable ID_x', 'Gene stable ID_y', 'Gene stable ID'])\n",
    "MXE_final = MXE_final.drop(columns=['countsFromAbundance', 'Gene stable ID_x', 'Gene stable ID_y', 'Gene stable ID'])\n",
    "RI_final = RI_final.drop(columns=['countsFromAbundance', 'Gene stable ID_x', 'Gene stable ID_y', 'Gene stable ID'])\n",
    "SE_final = SE_final.drop(columns=['countsFromAbundance', 'Gene stable ID_x', 'Gene stable ID_y', 'Gene stable ID'])"
   ]
  },
  {
   "cell_type": "markdown",
   "metadata": {},
   "source": [
    "## Saving the annotated output file"
   ]
  },
  {
   "cell_type": "code",
   "execution_count": 28,
   "metadata": {},
   "outputs": [],
   "source": [
    "A3SS_final.to_csv('A3SS_final.csv', header=True, index=False)\n",
    "A5SS_final.to_csv('A5SS_final.csv', header=True, index=False)\n",
    "MXE_final.to_csv('MXE_final.csv', header=True, index=False)\n",
    "RI_final.to_csv('RI_final.csv', header=True, index=False)\n",
    "SE_final.to_csv('SE_final.csv', header=True, index=False)"
   ]
  },
  {
   "cell_type": "markdown",
   "metadata": {},
   "source": [
    "# Events detected in WT"
   ]
  },
  {
   "cell_type": "code",
   "execution_count": 29,
   "metadata": {},
   "outputs": [
    {
     "name": "stdout",
     "output_type": "stream",
     "text": [
      " Total number of events detected in WT\n",
      " Number of Trancripts in A3SS : 385 \n",
      " Number of Trancripts in A5SS : 253 \n",
      " Number of Trancripts in MXE : 0 \n",
      " Number of Trancripts in RI : 1000 \n",
      " Number of Trancripts in SE : 232\n"
     ]
    }
   ],
   "source": [
    "A3SS_event_type = A3SS_final['GeneID']\n",
    "A5SS_event_type = A5SS_final['GeneID']\n",
    "MXE_event_type = MXE_final['GeneID']\n",
    "RI_event_type = RI_final['GeneID']\n",
    "SE_event_type = SE_final['GeneID']\n",
    "\n",
    "print('','Total number of events detected in WT')\n",
    "print('','Number of Trancripts in A3SS :', len(A3SS_event_type),'\\n','Number of Trancripts in A5SS :', len(A5SS_event_type),'\\n','Number of Trancripts in MXE :', len(MXE_event_type),'\\n','Number of Trancripts in RI :', len(RI_event_type),'\\n','Number of Trancripts in SE :', len(SE_event_type))"
   ]
  },
  {
   "cell_type": "markdown",
   "metadata": {},
   "source": [
    "# Transcript counts in WT (@ EVENT level)"
   ]
  },
  {
   "cell_type": "code",
   "execution_count": 30,
   "metadata": {},
   "outputs": [
    {
     "name": "stdout",
     "output_type": "stream",
     "text": [
      "Classification of transcripts based on gene_ID in WT\n",
      " Number of Trancripts in A3SS : 352 \n",
      " Number of Trancripts in A5SS : 230 \n",
      " Number of Trancripts in MXE : 0 \n",
      " Number of Trancripts in RI : 858 \n",
      " Number of Trancripts in SE : 186\n"
     ]
    }
   ],
   "source": [
    "A3SS_unique_an = A3SS_final.dropna(subset = ['gene_ID'])\n",
    "A5SS_unique_an = A5SS_final.dropna(subset = ['gene_ID'])\n",
    "MXE_unique_an = MXE_final.dropna(subset = ['gene_ID'])\n",
    "RI_unique_an = RI_final.dropna(subset = ['gene_ID'])\n",
    "SE_unique_an = SE_final.dropna(subset = ['gene_ID'])\n",
    "\n",
    "A3SS_gene_type = A3SS_final['GeneID'].unique().tolist()\n",
    "A5SS_gene_type = A5SS_final['GeneID'].unique().tolist()\n",
    "MXE_gene_type = MXE_final['GeneID'].unique().tolist()\n",
    "RI_gene_type = RI_final['GeneID'].unique().tolist()\n",
    "SE_gene_type = SE_final['GeneID'].unique().tolist()\n",
    "\n",
    "print('Classification of transcripts based on gene_ID in WT')\n",
    "print('','Number of Trancripts in A3SS :', len(A3SS_gene_type),'\\n','Number of Trancripts in A5SS :', len(A5SS_gene_type),'\\n','Number of Trancripts in MXE :', len(MXE_gene_type),'\\n','Number of Trancripts in RI :', len(RI_gene_type),'\\n','Number of Trancripts in SE :', len(SE_gene_type))"
   ]
  },
  {
   "cell_type": "markdown",
   "metadata": {},
   "source": [
    "# Gene counts in WT (@ EVENT level)"
   ]
  },
  {
   "cell_type": "code",
   "execution_count": 31,
   "metadata": {},
   "outputs": [
    {
     "name": "stdout",
     "output_type": "stream",
     "text": [
      "Classification of genes based on gene_ID in WT\n",
      " Number of gene in A3SS : 353 \n",
      " Number of gene in A5SS : 231 \n",
      " Number of gene in MXE : 0 \n",
      " Number of gene in RI : 861 \n",
      " Number of gene in SE : 186\n"
     ]
    }
   ],
   "source": [
    "A3SS_gene_no = A3SS_final['gene_ID'].unique().tolist()\n",
    "A5SS_gene_no = A5SS_final['gene_ID'].unique().tolist()\n",
    "MXE_gene_no = MXE_final['gene_ID'].unique().tolist()\n",
    "RI_gene_no = RI_final['gene_ID'].unique().tolist()\n",
    "SE_gene_no = SE_final['gene_ID'].unique().tolist()\n",
    "\n",
    "print('Classification of genes based on gene_ID in WT')\n",
    "print('','Number of gene in A3SS :', len(A3SS_gene_no),'\\n','Number of gene in A5SS :', len(A5SS_gene_no),'\\n','Number of gene in MXE :', len(MXE_gene_no),'\\n','Number of gene in RI :', len(RI_gene_no),'\\n','Number of gene in SE :', len(SE_gene_no))"
   ]
  },
  {
   "cell_type": "markdown",
   "metadata": {},
   "source": [
    "## Counting the data to present (@ EVENT level)\n",
    "#### Top group will not give class code in the final annotated file"
   ]
  },
  {
   "cell_type": "code",
   "execution_count": 32,
   "metadata": {},
   "outputs": [],
   "source": [
    "A3SS_gene = A3SS_final[['GeneID', 'gene_ID', 'Gene type']]\n",
    "A5SS_gene = A5SS_final[['GeneID', 'gene_ID', 'Gene type']]\n",
    "MXE_gene = MXE_final[['GeneID', 'gene_ID', 'Gene type']]\n",
    "RI_gene = RI_final[['GeneID', 'gene_ID', 'Gene type']]\n",
    "SE_gene = SE_final[['GeneID', 'gene_ID', 'Gene type']]"
   ]
  },
  {
   "cell_type": "code",
   "execution_count": 33,
   "metadata": {},
   "outputs": [
    {
     "name": "stdout",
     "output_type": "stream",
     "text": [
      "Splicing in A3SS (WT) based on Gene type\n",
      "lncRNA                  1\n",
      "ncRNA                   2\n",
      "nontranslating_CDS      2\n",
      "protein_coding        346\n",
      "pseudogene              1\n",
      "Name: count, dtype: int64\n",
      "\n",
      "\n",
      "Splicing in A5SS (WT) based on Gene type\n",
      "lncRNA              4\n",
      "ncRNA               2\n",
      "protein_coding    225\n",
      "Name: count, dtype: int64\n",
      "\n",
      "\n",
      "Splicing in MXE (WT) based on Series([], Name: count, dtype: int64)\n",
      "\n",
      "\n",
      "Splicing in RI (WT) based on Gene type\n",
      "lncRNA                        11\n",
      "ncRNA                          3\n",
      "nontranslating_CDS             1\n",
      "protein_coding               844\n",
      "pseudogene                     1\n",
      "transposable_element_gene      1\n",
      "Name: count, dtype: int64\n",
      "\n",
      "\n",
      "Splicing in SE (WT) based on Gene type\n",
      "lncRNA              4\n",
      "ncRNA               2\n",
      "protein_coding    179\n",
      "pseudogene          1\n",
      "Name: count, dtype: int64\n"
     ]
    }
   ],
   "source": [
    "A3SS_gene = A3SS_gene.drop_duplicates()\n",
    "A3SS_gene['count'] = 1\n",
    "A3SS_groupby = A3SS_gene.groupby(['Gene type']).count()['count']\n",
    "print('Splicing in A3SS (WT) based on', A3SS_groupby)\n",
    "print('\\n')\n",
    "A5SS_gene = A5SS_gene.drop_duplicates()\n",
    "A5SS_gene['count'] = 1\n",
    "A5SS_groupby = A5SS_gene.groupby(['Gene type']).count()['count']\n",
    "print('Splicing in A5SS (WT) based on', A5SS_groupby)\n",
    "print('\\n')\n",
    "MXE_gene = MXE_gene.drop_duplicates()\n",
    "MXE_gene['count'] = 1\n",
    "MXE_groupby = MXE_gene.groupby(['Gene type']).count()['count']\n",
    "print('Splicing in MXE (WT) based on', MXE_groupby)\n",
    "print('\\n')\n",
    "RI_gene = RI_gene.drop_duplicates()\n",
    "RI_gene['count'] = 1\n",
    "RI_groupby = RI_gene.groupby(['Gene type']).count()['count']\n",
    "print('Splicing in RI (WT) based on', RI_groupby)\n",
    "print('\\n')\n",
    "SE_gene = SE_gene.drop_duplicates()\n",
    "SE_gene['count'] = 1\n",
    "SE_groupby = SE_gene.groupby(['Gene type']).count()['count']\n",
    "print('Splicing in SE (WT) based on', SE_groupby)"
   ]
  },
  {
   "cell_type": "markdown",
   "metadata": {},
   "source": [
    "# Combining all the genes from event level classification"
   ]
  },
  {
   "cell_type": "code",
   "execution_count": 34,
   "metadata": {
    "scrolled": true
   },
   "outputs": [
    {
     "name": "stdout",
     "output_type": "stream",
     "text": [
      "Splicing in WT based on  Gene type\n",
      "lncRNA                         17\n",
      "ncRNA                           6\n",
      "nontranslating_CDS              3\n",
      "protein_coding               1359\n",
      "pseudogene                      3\n",
      "transposable_element_gene       1\n",
      "Name: count, dtype: int64\n",
      "\t\n",
      "Total number of genes in A3SS: 353\n",
      "Total number of genes in A5SS: 231\n",
      "Total number of genes in MXE: 0\n",
      "Total number of genes in RI: 861\n",
      "Total number of genes in SE: 186\n",
      "Total number of genes in WT: 1390\n"
     ]
    }
   ],
   "source": [
    "WT_splicing_genes = A3SS_gene.append(A5SS_gene)\n",
    "WT_splicing_genes = WT_splicing_genes.append(MXE_gene)\n",
    "WT_splicing_genes = WT_splicing_genes.append(RI_gene)\n",
    "WT_splicing_genes = WT_splicing_genes.append(SE_gene)\n",
    "WT_splicing_genes = WT_splicing_genes.drop_duplicates()\n",
    "WT_splicing_genes['count'] = 1\n",
    "WT_splicing_genes_groupby = WT_splicing_genes.groupby(['Gene type']).count()['count']\n",
    "print('Splicing in WT based on ', WT_splicing_genes_groupby)\n",
    "print('\\t')\n",
    "print('Total number of genes in A3SS:', len(A3SS_gene['count']))\n",
    "print('Total number of genes in A5SS:', len(A5SS_gene['count']))\n",
    "print('Total number of genes in MXE:', len(MXE_gene['count']))\n",
    "print('Total number of genes in RI:', len(RI_gene['count']))\n",
    "print('Total number of genes in SE:', len(SE_gene['count']))\n",
    "print('Total number of genes in WT:', len(WT_splicing_genes['count']))"
   ]
  },
  {
   "cell_type": "markdown",
   "metadata": {},
   "source": [
    "# Genes which undergoes splicing after ABA induction in WT"
   ]
  },
  {
   "cell_type": "code",
   "execution_count": 35,
   "metadata": {},
   "outputs": [],
   "source": [
    "WT_splicing_genes_1 = WT_splicing_genes.drop(columns=['count'])\n",
    "\n",
    "WT_Diff_exp = WT_Diff_exp[['GeneID', 'log2FoldChange', 'FoldChange']]\n",
    "WT_Diff_exp['log2FoldChange'] = WT_Diff_exp.log2FoldChange.round(2)\n",
    "WT_Diff_exp['FoldChange'] = WT_Diff_exp.FoldChange.round(2)"
   ]
  },
  {
   "cell_type": "markdown",
   "metadata": {},
   "source": [
    "## Merging the differential expression data from Deseq2 output"
   ]
  },
  {
   "cell_type": "code",
   "execution_count": 36,
   "metadata": {},
   "outputs": [
    {
     "name": "stdout",
     "output_type": "stream",
     "text": [
      "Differential Alternatively spliced genes in WT Based on:  Diff_expression\n",
      "Down_Regulated     102\n",
      "Not_Regulated     1157\n",
      "Up_Regulated       130\n",
      "Name: Gene type, dtype: int64\n"
     ]
    }
   ],
   "source": [
    "WT_gene_SV = WT_splicing_genes_1.merge(WT_Diff_exp, left_on = ['GeneID'], right_on = ['GeneID'], how = 'left')\n",
    "WT_gene_SV['Diff_expression'] = 'Not_Regulated'\n",
    "WT_gene_SV.loc[(WT_gene_SV['log2FoldChange'] >= 1), 'Diff_expression'] = 'Up_Regulated'\n",
    "WT_gene_SV.loc[(WT_gene_SV['log2FoldChange'] <= -1), 'Diff_expression'] = 'Down_Regulated'\n",
    "WT_gene_SV_groupby = WT_gene_SV.groupby(['Diff_expression']).count()['Gene type']\n",
    "print('Differential Alternatively spliced genes in WT Based on: ', WT_gene_SV_groupby)"
   ]
  },
  {
   "cell_type": "code",
   "execution_count": 37,
   "metadata": {},
   "outputs": [],
   "source": [
    "WT_gene_SV = WT_gene_SV.merge(ENSEMBL_Data2, left_on = 'gene_ID', right_on = 'Gene stable ID', how = 'left')\n",
    "WT_gene_SV = WT_gene_SV.merge(ENSEMBL_Data3, left_on = 'gene_ID', right_on = 'Gene stable ID', how = 'left')\n",
    "\n",
    "WT_gene_SV = WT_gene_SV.drop(columns=['Gene stable ID_x', 'Gene stable ID_y'])"
   ]
  },
  {
   "cell_type": "markdown",
   "metadata": {},
   "source": [
    "**Sorting the values based on the value [1] for ascending, [0] for descending order for two columns**"
   ]
  },
  {
   "cell_type": "code",
   "execution_count": 38,
   "metadata": {},
   "outputs": [],
   "source": [
    "WT_gene_SV = WT_gene_SV.sort_values(['log2FoldChange', 'Gene type'], ascending=[0,0])\n",
    "\n",
    "WT_gene_SV.to_csv('WT_splicing_annotated_0.6.csv', header=True, index=False)"
   ]
  },
  {
   "cell_type": "code",
   "execution_count": 39,
   "metadata": {},
   "outputs": [],
   "source": [
    "A3SS_gene1 = A3SS_final[['GeneID', 'gene_ID', 'class_code', 'Gene type']]\n",
    "A5SS_gene1 = A5SS_final[['GeneID', 'gene_ID', 'class_code', 'Gene type']]\n",
    "MXE_gene1 = MXE_final[['GeneID', 'gene_ID', 'class_code', 'Gene type']]\n",
    "RI_gene1 = RI_final[['GeneID', 'gene_ID', 'class_code', 'Gene type']]\n",
    "SE_gene1 = SE_final[['GeneID', 'gene_ID', 'class_code', 'Gene type']]\n",
    "\n",
    "WT_splicing_genes1 = A3SS_gene1.append(A5SS_gene1)\n",
    "WT_splicing_genes1 = WT_splicing_genes1.append(MXE_gene1)\n",
    "WT_splicing_genes1 = WT_splicing_genes1.append(RI_gene1)\n",
    "WT_splicing_genes1 = WT_splicing_genes1.append(SE_gene1)\n",
    "WT_splicing_genes1 = WT_splicing_genes1.drop_duplicates()\n",
    "\n",
    "WT_gene_SV1 = WT_splicing_genes1.merge(WT_Diff_exp, left_on = ['GeneID'], right_on = ['GeneID'], how = 'left')\n",
    "\n",
    "WT_gene_SV1['Diff_expression'] = 'Not_Regulated'\n",
    "WT_gene_SV1.loc[(WT_gene_SV1['log2FoldChange'] >= 1), 'Diff_expression'] = 'Up_Regulated'\n",
    "WT_gene_SV1.loc[(WT_gene_SV1['log2FoldChange'] <= -1), 'Diff_expression'] = 'Down_Regulated'\n",
    "\n",
    "WT_gene_SV1 = WT_gene_SV1.merge(ENSEMBL_Data2, left_on = 'gene_ID', right_on = 'Gene stable ID', how = 'left')\n",
    "WT_gene_SV1 = WT_gene_SV1.merge(ENSEMBL_Data3, left_on = 'gene_ID', right_on = 'Gene stable ID', how = 'left')\n",
    "\n",
    "WT_gene_SV1 = WT_gene_SV1.drop(columns=['Gene stable ID_x', 'Gene stable ID_y'])\n",
    "\n",
    "WT_gene_SV1 = WT_gene_SV1.sort_values(['log2FoldChange', 'Gene type'], ascending=[0,0])\n",
    "WT_gene_SV1.to_csv('WT_splicing_annotated_0.6_class_code.csv', header=True, index=False)\n"
   ]
  },
  {
   "cell_type": "code",
   "execution_count": null,
   "metadata": {},
   "outputs": [],
   "source": []
  }
 ],
 "metadata": {
  "kernelspec": {
   "display_name": "Python 3 (ipykernel)",
   "language": "python",
   "name": "python3"
  },
  "language_info": {
   "codemirror_mode": {
    "name": "ipython",
    "version": 3
   },
   "file_extension": ".py",
   "mimetype": "text/x-python",
   "name": "python",
   "nbconvert_exporter": "python",
   "pygments_lexer": "ipython3",
   "version": "3.10.0"
  }
 },
 "nbformat": 4,
 "nbformat_minor": 2
}
