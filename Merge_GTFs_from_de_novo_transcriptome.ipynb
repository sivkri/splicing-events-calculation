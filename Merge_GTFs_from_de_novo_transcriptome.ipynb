{
 "cells": [
  {
   "cell_type": "code",
   "execution_count": 50,
   "metadata": {},
   "outputs": [
    {
     "data": {
      "text/plain": [
       "2"
      ]
     },
     "execution_count": 50,
     "metadata": {},
     "output_type": "execute_result"
    }
   ],
   "source": [
    "1+1"
   ]
  },
  {
   "cell_type": "code",
   "execution_count": 51,
   "metadata": {},
   "outputs": [],
   "source": [
    "import pandas as pd\n",
    "import numpy as np\n",
    "import os\n",
    "import sys\n",
    "import scipy\n",
    "import csv\n",
    "from pandas import Series, DataFrame, read_excel\n",
    "from gtfparse import read_gtf\n",
    "from pandas.io.parsers import read_csv"
   ]
  },
  {
   "cell_type": "code",
   "execution_count": 52,
   "metadata": {},
   "outputs": [
    {
     "name": "stderr",
     "output_type": "stream",
     "text": [
      "INFO:root:Extracted GTF attributes: ['gene_id', 'transcript_id', 'exon_number', 'gene_name', 'oId', 'nearest_ref', 'class_code', 'tss_id', 'contained_in']\n"
     ]
    }
   ],
   "source": [
    "ENSEMBL_transcriptome = read_gtf(\"all.combined.gtf\")"
   ]
  },
  {
   "cell_type": "code",
   "execution_count": 53,
   "metadata": {},
   "outputs": [],
   "source": [
    "ENSEMBL_transcriptome.to_csv('ENSEMBL_transcriptome.csv', header=True, index=False)"
   ]
  },
  {
   "cell_type": "markdown",
   "metadata": {},
   "source": [
    "**Preparing the class code \"= & J\" together**"
   ]
  },
  {
   "cell_type": "code",
   "execution_count": 5,
   "metadata": {},
   "outputs": [],
   "source": [
    "df_genes1 = ENSEMBL_transcriptome[(ENSEMBL_transcriptome[\"class_code\"] == \"=\") | (ENSEMBL_transcriptome[\"class_code\"] == \"j\")]"
   ]
  },
  {
   "cell_type": "code",
   "execution_count": 6,
   "metadata": {},
   "outputs": [],
   "source": [
    "df_genes2 = pd.DataFrame(df_genes1,columns=['start', 'end', 'class_code','nearest_ref']).drop_duplicates()"
   ]
  },
  {
   "cell_type": "markdown",
   "metadata": {},
   "source": [
    "Converting the isoform into the trancript"
   ]
  },
  {
   "cell_type": "code",
   "execution_count": 7,
   "metadata": {},
   "outputs": [],
   "source": [
    "new = df_genes2[\"nearest_ref\"].str.split(\".\", n = 1, expand = True )\n",
    "df_genes2[\"gene_ID\"] = new[0]\n",
    "df_genes2.drop(columns = [\"nearest_ref\"], inplace = True)"
   ]
  },
  {
   "cell_type": "code",
   "execution_count": 8,
   "metadata": {},
   "outputs": [],
   "source": [
    "new2 = df_genes2.start-1\n",
    "df_genes2[\"exonStart_0base1\"] = new2\n",
    "df_genes2.drop(columns = [\"start\"], inplace = True)"
   ]
  },
  {
   "cell_type": "code",
   "execution_count": 9,
   "metadata": {},
   "outputs": [],
   "source": [
    "df1 = df_genes2.drop_duplicates()"
   ]
  },
  {
   "cell_type": "code",
   "execution_count": 10,
   "metadata": {},
   "outputs": [],
   "source": [
    "df1 = df1[['exonStart_0base1', 'end', 'class_code', 'gene_ID']]"
   ]
  },
  {
   "cell_type": "code",
   "execution_count": 11,
   "metadata": {},
   "outputs": [],
   "source": [
    "df2 = df1[df1.duplicated(['exonStart_0base1', 'end'])]"
   ]
  },
  {
   "cell_type": "code",
   "execution_count": 12,
   "metadata": {},
   "outputs": [],
   "source": [
    "df21 = df2.replace(\"j\", \"=\")"
   ]
  },
  {
   "cell_type": "code",
   "execution_count": 13,
   "metadata": {},
   "outputs": [],
   "source": [
    "#df21.to_csv('df_genes_altered.csv', header=True, index=False)"
   ]
  },
  {
   "cell_type": "markdown",
   "metadata": {},
   "source": [
    "**Preparing the class code \"=\" separately**"
   ]
  },
  {
   "cell_type": "code",
   "execution_count": 14,
   "metadata": {},
   "outputs": [],
   "source": [
    "df_genes3 = ENSEMBL_transcriptome.loc[ENSEMBL_transcriptome.class_code == \"=\"]"
   ]
  },
  {
   "cell_type": "code",
   "execution_count": 15,
   "metadata": {},
   "outputs": [],
   "source": [
    "df_genes3 = pd.DataFrame(df_genes3,columns=['start', 'end', 'class_code','nearest_ref']).drop_duplicates()"
   ]
  },
  {
   "cell_type": "code",
   "execution_count": 16,
   "metadata": {},
   "outputs": [],
   "source": [
    "new3 = df_genes3[\"nearest_ref\"].str.split(\".\", n = 1, expand = True )\n",
    "df_genes3[\"gene_ID\"] = new3[0]\n",
    "df_genes3.drop(columns = [\"nearest_ref\"], inplace = True)"
   ]
  },
  {
   "cell_type": "code",
   "execution_count": 17,
   "metadata": {},
   "outputs": [],
   "source": [
    "new4 = df_genes3.start-1\n",
    "df_genes3[\"exonStart_0base1\"] = new4\n",
    "df_genes3.drop(columns = [\"start\"], inplace = True)"
   ]
  },
  {
   "cell_type": "code",
   "execution_count": 18,
   "metadata": {},
   "outputs": [],
   "source": [
    "df3 = df_genes3.drop_duplicates()"
   ]
  },
  {
   "cell_type": "code",
   "execution_count": 19,
   "metadata": {},
   "outputs": [],
   "source": [
    "df3 = df3[['exonStart_0base1', 'end', 'class_code', 'gene_ID']]"
   ]
  },
  {
   "cell_type": "code",
   "execution_count": 20,
   "metadata": {},
   "outputs": [],
   "source": [
    "#df3.to_csv('df_genes_=.csv', header=True, index=False)"
   ]
  },
  {
   "cell_type": "markdown",
   "metadata": {},
   "source": [
    "**Preparing the class code \"j\" separately**"
   ]
  },
  {
   "cell_type": "code",
   "execution_count": 21,
   "metadata": {},
   "outputs": [],
   "source": [
    "df_genes4 = ENSEMBL_transcriptome.loc[ENSEMBL_transcriptome.class_code == \"j\"]"
   ]
  },
  {
   "cell_type": "code",
   "execution_count": 22,
   "metadata": {},
   "outputs": [],
   "source": [
    "df_genes4 = pd.DataFrame(df_genes4,columns=['start', 'end', 'class_code','nearest_ref']).drop_duplicates()"
   ]
  },
  {
   "cell_type": "code",
   "execution_count": 23,
   "metadata": {},
   "outputs": [],
   "source": [
    "new5 = df_genes4[\"nearest_ref\"].str.split(\".\", n = 1, expand = True )\n",
    "df_genes4[\"gene_ID\"] = new5[0]\n",
    "df_genes4.drop(columns = [\"nearest_ref\"], inplace = True)"
   ]
  },
  {
   "cell_type": "code",
   "execution_count": 24,
   "metadata": {},
   "outputs": [],
   "source": [
    "new6 = df_genes4.start-1\n",
    "df_genes4[\"exonStart_0base1\"] = new6\n",
    "df_genes4.drop(columns = [\"start\"], inplace = True)"
   ]
  },
  {
   "cell_type": "code",
   "execution_count": 25,
   "metadata": {},
   "outputs": [],
   "source": [
    "df4 = df_genes4.drop_duplicates()"
   ]
  },
  {
   "cell_type": "code",
   "execution_count": 26,
   "metadata": {},
   "outputs": [],
   "source": [
    "df4 = df4[['exonStart_0base1', 'end', 'class_code', 'gene_ID']]"
   ]
  },
  {
   "cell_type": "code",
   "execution_count": 27,
   "metadata": {},
   "outputs": [],
   "source": [
    "#df4.to_csv('df_genes_j.csv', header=True, index=False)"
   ]
  },
  {
   "cell_type": "markdown",
   "metadata": {},
   "source": [
    "**Preparing the class code \"u\" separately**"
   ]
  },
  {
   "cell_type": "code",
   "execution_count": 28,
   "metadata": {},
   "outputs": [],
   "source": [
    "df_genes5 = ENSEMBL_transcriptome.loc[ENSEMBL_transcriptome.class_code == \"u\"]"
   ]
  },
  {
   "cell_type": "code",
   "execution_count": 29,
   "metadata": {},
   "outputs": [],
   "source": [
    "df_genes5 = pd.DataFrame(df_genes5,columns=['start', 'end', 'class_code','nearest_ref']).drop_duplicates()"
   ]
  },
  {
   "cell_type": "code",
   "execution_count": 30,
   "metadata": {},
   "outputs": [],
   "source": [
    "new7 = df_genes5[\"nearest_ref\"].str.split(\".\", n = 1, expand = True )\n",
    "df_genes5[\"gene_ID\"] = new7[0]\n",
    "df_genes5.drop(columns = [\"nearest_ref\"], inplace = True)"
   ]
  },
  {
   "cell_type": "code",
   "execution_count": 31,
   "metadata": {},
   "outputs": [],
   "source": [
    "new8 = df_genes5.start-1\n",
    "df_genes5[\"exonStart_0base1\"] = new8\n",
    "df_genes5.drop(columns = [\"start\"], inplace = True)"
   ]
  },
  {
   "cell_type": "code",
   "execution_count": 32,
   "metadata": {},
   "outputs": [],
   "source": [
    "df5 = df_genes5.drop_duplicates()"
   ]
  },
  {
   "cell_type": "code",
   "execution_count": 33,
   "metadata": {},
   "outputs": [],
   "source": [
    "df5 = df5[['exonStart_0base1', 'end', 'class_code', 'gene_ID']]"
   ]
  },
  {
   "cell_type": "code",
   "execution_count": 34,
   "metadata": {},
   "outputs": [],
   "source": [
    "#df5.to_csv('df_genes_u.csv', header=True, index=False)"
   ]
  },
  {
   "cell_type": "markdown",
   "metadata": {},
   "source": [
    "**Preparing the class code \"o\" separately**"
   ]
  },
  {
   "cell_type": "code",
   "execution_count": 43,
   "metadata": {},
   "outputs": [],
   "source": [
    "df_genes6 = ENSEMBL_transcriptome.loc[ENSEMBL_transcriptome.class_code == \"o\"]"
   ]
  },
  {
   "cell_type": "code",
   "execution_count": 44,
   "metadata": {},
   "outputs": [],
   "source": [
    "df_genes6 = pd.DataFrame(df_genes6,columns=['start', 'end', 'class_code','nearest_ref']).drop_duplicates()"
   ]
  },
  {
   "cell_type": "code",
   "execution_count": 45,
   "metadata": {},
   "outputs": [],
   "source": [
    "new9 = df_genes6[\"nearest_ref\"].str.split(\".\", n = 1, expand = True )\n",
    "df_genes6[\"gene_ID\"] = new9[0]\n",
    "df_genes6.drop(columns = [\"nearest_ref\"], inplace = True)"
   ]
  },
  {
   "cell_type": "code",
   "execution_count": 46,
   "metadata": {},
   "outputs": [],
   "source": [
    "new10 = df_genes6.start-1\n",
    "df_genes6[\"exonStart_0base1\"] = new10\n",
    "df_genes6.drop(columns = [\"start\"], inplace = True)"
   ]
  },
  {
   "cell_type": "code",
   "execution_count": 47,
   "metadata": {},
   "outputs": [],
   "source": [
    "df6 = df_genes6.drop_duplicates()"
   ]
  },
  {
   "cell_type": "code",
   "execution_count": 48,
   "metadata": {},
   "outputs": [],
   "source": [
    "df6 = df6[['exonStart_0base1', 'end', 'class_code', 'gene_ID']]"
   ]
  },
  {
   "cell_type": "code",
   "execution_count": 49,
   "metadata": {},
   "outputs": [],
   "source": [
    "df6.to_csv('df_genes_o.csv', header=True, index=False)"
   ]
  },
  {
   "cell_type": "markdown",
   "metadata": {},
   "source": [
    "**Preparing the class code \"x\" separately**"
   ]
  },
  {
   "cell_type": "code",
   "execution_count": 54,
   "metadata": {},
   "outputs": [],
   "source": [
    "df_genes7 = ENSEMBL_transcriptome.loc[ENSEMBL_transcriptome.class_code == \"x\"]"
   ]
  },
  {
   "cell_type": "code",
   "execution_count": 55,
   "metadata": {},
   "outputs": [],
   "source": [
    "df_genes7 = pd.DataFrame(df_genes7,columns=['start', 'end', 'class_code','nearest_ref']).drop_duplicates()"
   ]
  },
  {
   "cell_type": "code",
   "execution_count": 56,
   "metadata": {},
   "outputs": [],
   "source": [
    "new11 = df_genes7[\"nearest_ref\"].str.split(\".\", n = 1, expand = True )\n",
    "df_genes7[\"gene_ID\"] = new11[0]\n",
    "df_genes7.drop(columns = [\"nearest_ref\"], inplace = True)"
   ]
  },
  {
   "cell_type": "code",
   "execution_count": 57,
   "metadata": {},
   "outputs": [],
   "source": [
    "new12 = df_genes7.start-1\n",
    "df_genes7[\"exonStart_0base1\"] = new12\n",
    "df_genes7.drop(columns = [\"start\"], inplace = True)"
   ]
  },
  {
   "cell_type": "code",
   "execution_count": 58,
   "metadata": {},
   "outputs": [],
   "source": [
    "df7 = df_genes7.drop_duplicates()"
   ]
  },
  {
   "cell_type": "code",
   "execution_count": 59,
   "metadata": {},
   "outputs": [],
   "source": [
    "df7 = df7[['exonStart_0base1', 'end', 'class_code', 'gene_ID']]"
   ]
  },
  {
   "cell_type": "code",
   "execution_count": 60,
   "metadata": {},
   "outputs": [],
   "source": [
    "df7.to_csv('df_genes_x.csv', header=True, index=False)"
   ]
  },
  {
   "cell_type": "markdown",
   "metadata": {},
   "source": [
    "**Preparing combined file**"
   ]
  },
  {
   "cell_type": "code",
   "execution_count": 42,
   "metadata": {},
   "outputs": [],
   "source": [
    "#df_final = df3.append(df21)\n",
    "#df_final1 = df_final.append(df4)\n",
    "#df_final1 = df_final1.drop_duplicates()\n",
    "#df_final1.to_csv('df_genes_final1.csv', header=True, index=False)"
   ]
  }
 ],
 "metadata": {
  "kernelspec": {
   "display_name": "Python 3 (ipykernel)",
   "language": "python",
   "name": "python3"
  },
  "language_info": {
   "codemirror_mode": {
    "name": "ipython",
    "version": 3
   },
   "file_extension": ".py",
   "mimetype": "text/x-python",
   "name": "python",
   "nbconvert_exporter": "python",
   "pygments_lexer": "ipython3",
   "version": "3.10.0"
  }
 },
 "nbformat": 4,
 "nbformat_minor": 2
}
